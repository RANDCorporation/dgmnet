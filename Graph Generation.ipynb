{
 "cells": [
  {
   "cell_type": "markdown",
   "metadata": {},
   "source": [
    "# Graph Generator\n",
    "\n",
    "This notebook implements the Graph Generation by Iterated Link Prediction (Graph GILP) algorithm discussed in Sec. 6 of the report. This notebook expects to find a saved link predictor model trained by the `Link Prediction.ipynb` notebook. "
   ]
  },
  {
   "cell_type": "code",
   "execution_count": 1,
   "metadata": {},
   "outputs": [
    {
     "name": "stderr",
     "output_type": "stream",
     "text": [
      "/home/gavin/anaconda3/envs/pygeo/lib/python3.8/site-packages/sklearn/utils/deprecation.py:144: FutureWarning: The sklearn.utils.testing module is  deprecated in version 0.22 and will be removed in version 0.24. The corresponding classes / functions should instead be imported from sklearn.utils. Anything that cannot be imported from sklearn.utils is now part of the private API.\n",
      "  warnings.warn(message, FutureWarning)\n"
     ]
    }
   ],
   "source": [
    "import os\n",
    "import itertools\n",
    "from collections import Counter\n",
    "\n",
    "from imports import *\n",
    "from linkpred import *\n",
    "from dataset import *\n",
    "from torch_geometric.utils import remove_self_loops\n",
    "\n",
    "import matplotlib.pyplot as plt\n",
    "import matplotlib\n",
    "import matplotlib.style as style \n",
    "style.use('seaborn-paper')\n",
    "%matplotlib inline\n",
    "\n",
    "fontsize = 12\n",
    "plt.rcParams.update({\n",
    "    'font.size': fontsize, \n",
    "    'axes.labelsize': fontsize, \n",
    "    'legend.fontsize': fontsize,\n",
    "    'xtick.labelsize': fontsize,\n",
    "    'ytick.labelsize': fontsize,\n",
    "    'axes.titlesize': fontsize\n",
    "                    })"
   ]
  },
  {
   "cell_type": "code",
   "execution_count": 2,
   "metadata": {},
   "outputs": [
    {
     "data": {
      "text/plain": [
       "<torch._C.Generator at 0x7f38fc025f30>"
      ]
     },
     "execution_count": 2,
     "metadata": {},
     "output_type": "execute_result"
    }
   ],
   "source": [
    "## set random seeds\n",
    "random.seed(123)\n",
    "np.random.seed(123)\n",
    "torch.manual_seed(123)"
   ]
  },
  {
   "cell_type": "code",
   "execution_count": 3,
   "metadata": {},
   "outputs": [
    {
     "name": "stdout",
     "output_type": "stream",
     "text": [
      "1.5.1\n",
      "device = cpu\n"
     ]
    }
   ],
   "source": [
    "print(torch.__version__)\n",
    "device = torch.device('cuda' if torch.cuda.is_available() else 'cpu')\n",
    "#device = 'cpu'\n",
    "print('device =', device)"
   ]
  },
  {
   "cell_type": "markdown",
   "metadata": {},
   "source": [
    "## Load the Dataset"
   ]
  },
  {
   "cell_type": "markdown",
   "metadata": {},
   "source": [
    "load the node attribute matrix"
   ]
  },
  {
   "cell_type": "code",
   "execution_count": 4,
   "metadata": {},
   "outputs": [
    {
     "data": {
      "text/html": [
       "<div>\n",
       "<style scoped>\n",
       "    .dataframe tbody tr th:only-of-type {\n",
       "        vertical-align: middle;\n",
       "    }\n",
       "\n",
       "    .dataframe tbody tr th {\n",
       "        vertical-align: top;\n",
       "    }\n",
       "\n",
       "    .dataframe thead th {\n",
       "        text-align: right;\n",
       "    }\n",
       "</style>\n",
       "<table border=\"1\" class=\"dataframe\">\n",
       "  <thead>\n",
       "    <tr style=\"text-align: right;\">\n",
       "      <th></th>\n",
       "      <th>person_id</th>\n",
       "      <th>household_id</th>\n",
       "      <th>age</th>\n",
       "      <th>gender</th>\n",
       "      <th>worker</th>\n",
       "      <th>relationship</th>\n",
       "      <th>household_income</th>\n",
       "      <th>household_size</th>\n",
       "      <th>zipcode</th>\n",
       "      <th>household_vehicles</th>\n",
       "      <th>household_workers</th>\n",
       "    </tr>\n",
       "  </thead>\n",
       "  <tbody>\n",
       "    <tr>\n",
       "      <th>0</th>\n",
       "      <td>2509159</td>\n",
       "      <td>2201175</td>\n",
       "      <td>42</td>\n",
       "      <td>1</td>\n",
       "      <td>1</td>\n",
       "      <td>1</td>\n",
       "      <td>13</td>\n",
       "      <td>3</td>\n",
       "      <td>97201</td>\n",
       "      <td>3</td>\n",
       "      <td>2</td>\n",
       "    </tr>\n",
       "    <tr>\n",
       "      <th>1</th>\n",
       "      <td>2509160</td>\n",
       "      <td>2201175</td>\n",
       "      <td>43</td>\n",
       "      <td>2</td>\n",
       "      <td>1</td>\n",
       "      <td>1</td>\n",
       "      <td>13</td>\n",
       "      <td>3</td>\n",
       "      <td>97201</td>\n",
       "      <td>3</td>\n",
       "      <td>2</td>\n",
       "    </tr>\n",
       "    <tr>\n",
       "      <th>2</th>\n",
       "      <td>2509161</td>\n",
       "      <td>2201175</td>\n",
       "      <td>17</td>\n",
       "      <td>1</td>\n",
       "      <td>2</td>\n",
       "      <td>2</td>\n",
       "      <td>13</td>\n",
       "      <td>3</td>\n",
       "      <td>97201</td>\n",
       "      <td>3</td>\n",
       "      <td>2</td>\n",
       "    </tr>\n",
       "    <tr>\n",
       "      <th>3</th>\n",
       "      <td>2509162</td>\n",
       "      <td>2201176</td>\n",
       "      <td>41</td>\n",
       "      <td>1</td>\n",
       "      <td>1</td>\n",
       "      <td>1</td>\n",
       "      <td>11</td>\n",
       "      <td>2</td>\n",
       "      <td>97201</td>\n",
       "      <td>3</td>\n",
       "      <td>1</td>\n",
       "    </tr>\n",
       "    <tr>\n",
       "      <th>4</th>\n",
       "      <td>2509163</td>\n",
       "      <td>2201176</td>\n",
       "      <td>11</td>\n",
       "      <td>1</td>\n",
       "      <td>2</td>\n",
       "      <td>2</td>\n",
       "      <td>11</td>\n",
       "      <td>2</td>\n",
       "      <td>97201</td>\n",
       "      <td>3</td>\n",
       "      <td>1</td>\n",
       "    </tr>\n",
       "  </tbody>\n",
       "</table>\n",
       "</div>"
      ],
      "text/plain": [
       "   person_id  household_id  age  gender  worker  relationship  \\\n",
       "0    2509159       2201175   42       1       1             1   \n",
       "1    2509160       2201175   43       2       1             1   \n",
       "2    2509161       2201175   17       1       2             2   \n",
       "3    2509162       2201176   41       1       1             1   \n",
       "4    2509163       2201176   11       1       2             2   \n",
       "\n",
       "   household_income  household_size  zipcode  household_vehicles  \\\n",
       "0                13               3    97201                   3   \n",
       "1                13               3    97201                   3   \n",
       "2                13               3    97201                   3   \n",
       "3                11               2    97201                   3   \n",
       "4                11               2    97201                   3   \n",
       "\n",
       "   household_workers  \n",
       "0                  2  \n",
       "1                  2  \n",
       "2                  2  \n",
       "3                  1  \n",
       "4                  1  "
      ]
     },
     "execution_count": 4,
     "metadata": {},
     "output_type": "execute_result"
    }
   ],
   "source": [
    "node_attributes = pd.read_csv('data/NDSSL data/raw/node_attributes.csv')\n",
    "node_attributes.head(5)"
   ]
  },
  {
   "cell_type": "code",
   "execution_count": 5,
   "metadata": {},
   "outputs": [
    {
     "data": {
      "text/html": [
       "<div>\n",
       "<style scoped>\n",
       "    .dataframe tbody tr th:only-of-type {\n",
       "        vertical-align: middle;\n",
       "    }\n",
       "\n",
       "    .dataframe tbody tr th {\n",
       "        vertical-align: top;\n",
       "    }\n",
       "\n",
       "    .dataframe thead th {\n",
       "        text-align: right;\n",
       "    }\n",
       "</style>\n",
       "<table border=\"1\" class=\"dataframe\">\n",
       "  <thead>\n",
       "    <tr style=\"text-align: right;\">\n",
       "      <th></th>\n",
       "      <th>age</th>\n",
       "      <th>gender</th>\n",
       "      <th>worker</th>\n",
       "      <th>relationship</th>\n",
       "      <th>household_income</th>\n",
       "      <th>household_size</th>\n",
       "      <th>zipcode</th>\n",
       "      <th>household_vehicles</th>\n",
       "      <th>household_workers</th>\n",
       "    </tr>\n",
       "  </thead>\n",
       "  <tbody>\n",
       "    <tr>\n",
       "      <th>0</th>\n",
       "      <td>42</td>\n",
       "      <td>1</td>\n",
       "      <td>1</td>\n",
       "      <td>1</td>\n",
       "      <td>13</td>\n",
       "      <td>3</td>\n",
       "      <td>97201</td>\n",
       "      <td>3</td>\n",
       "      <td>2</td>\n",
       "    </tr>\n",
       "    <tr>\n",
       "      <th>1</th>\n",
       "      <td>43</td>\n",
       "      <td>2</td>\n",
       "      <td>1</td>\n",
       "      <td>1</td>\n",
       "      <td>13</td>\n",
       "      <td>3</td>\n",
       "      <td>97201</td>\n",
       "      <td>3</td>\n",
       "      <td>2</td>\n",
       "    </tr>\n",
       "    <tr>\n",
       "      <th>2</th>\n",
       "      <td>17</td>\n",
       "      <td>1</td>\n",
       "      <td>2</td>\n",
       "      <td>2</td>\n",
       "      <td>13</td>\n",
       "      <td>3</td>\n",
       "      <td>97201</td>\n",
       "      <td>3</td>\n",
       "      <td>2</td>\n",
       "    </tr>\n",
       "    <tr>\n",
       "      <th>3</th>\n",
       "      <td>41</td>\n",
       "      <td>1</td>\n",
       "      <td>1</td>\n",
       "      <td>1</td>\n",
       "      <td>11</td>\n",
       "      <td>2</td>\n",
       "      <td>97201</td>\n",
       "      <td>3</td>\n",
       "      <td>1</td>\n",
       "    </tr>\n",
       "    <tr>\n",
       "      <th>4</th>\n",
       "      <td>11</td>\n",
       "      <td>1</td>\n",
       "      <td>2</td>\n",
       "      <td>2</td>\n",
       "      <td>11</td>\n",
       "      <td>2</td>\n",
       "      <td>97201</td>\n",
       "      <td>3</td>\n",
       "      <td>1</td>\n",
       "    </tr>\n",
       "  </tbody>\n",
       "</table>\n",
       "</div>"
      ],
      "text/plain": [
       "   age  gender  worker  relationship  household_income  household_size  \\\n",
       "0   42       1       1             1                13               3   \n",
       "1   43       2       1             1                13               3   \n",
       "2   17       1       2             2                13               3   \n",
       "3   41       1       1             1                11               2   \n",
       "4   11       1       2             2                11               2   \n",
       "\n",
       "   zipcode  household_vehicles  household_workers  \n",
       "0    97201                   3                  2  \n",
       "1    97201                   3                  2  \n",
       "2    97201                   3                  2  \n",
       "3    97201                   3                  1  \n",
       "4    97201                   3                  1  "
      ]
     },
     "execution_count": 5,
     "metadata": {},
     "output_type": "execute_result"
    }
   ],
   "source": [
    "data_columns = ['age', 'gender', 'worker', 'relationship', 'household_income', 'household_size', 'zipcode', 'household_vehicles', 'household_workers']\n",
    "discrete_columns = ['age', 'gender', 'worker', 'relationship', 'household_income', 'household_size', 'zipcode', 'household_vehicles', 'household_workers']\n",
    "node_attributes[data_columns].head(5)"
   ]
  },
  {
   "cell_type": "markdown",
   "metadata": {},
   "source": [
    "load the NDSSL network"
   ]
  },
  {
   "cell_type": "code",
   "execution_count": 6,
   "metadata": {},
   "outputs": [],
   "source": [
    "ndssl = load_dataset(dataset_name='NDSSL')\n",
    "data_ndssl = ndssl[0]\n",
    "\n",
    "G_real = nx.Graph()\n",
    "G_real.add_edges_from(tuple(map(tuple, np.transpose(data_ndssl.edge_index.numpy()))))\n",
    "degree_sequence = np.asarray(sorted([d for n, d in G_real.degree()], reverse=False))\n",
    "degree_counter = Counter(degree_sequence)"
   ]
  },
  {
   "cell_type": "markdown",
   "metadata": {},
   "source": [
    "## Generate Node Attribute Matrix Using CTGAN\n",
    "\n",
    "Use CTGAN ([paper](https://arxiv.org/abs/1907.00503), [code](https://github.com/sdv-dev/CTGAN)) to learn a generative model over the marginal distribution $P(X)$. Once this is trained, generate a new sample of $X$."
   ]
  },
  {
   "cell_type": "code",
   "execution_count": 7,
   "metadata": {},
   "outputs": [
    {
     "name": "stdout",
     "output_type": "stream",
     "text": [
      "loading previously generated node attribute matrix\n"
     ]
    }
   ],
   "source": [
    "epochs = 300\n",
    "n = 100000\n",
    "save_path = 'generated/df_artificial_n_' + str(n) + '_ctgan_epochs_' + str(epochs) + '.pt'\n",
    "\n",
    "# load a previously generated node attribute matrix\n",
    "if os.path.exists(save_path):\n",
    "    print('loading previously generated node attribute matrix')\n",
    "    df_artificial = pd.read_pickle(save_path)\n",
    "\n",
    "#or generate it for the first time\n",
    "else:\n",
    "    # load the CTGAN model\n",
    "    from ctgan import CTGANSynthesizer\n",
    "    # train from scratch\n",
    "    if not os.path.exists('weights/ctgan_epoch_' + str(epochs)):\n",
    "        print('training CTGAN from scratch')        \n",
    "        ctgan = CTGANSynthesizer()\n",
    "        ctgan.fit(node_attributes[data_columns], discrete_columns, epochs=epochs)\n",
    "        torch.save(ctgan.generator.state_dict(), 'weights/ctgan_epoch_' + str(epochs))\n",
    "    # load pre-trained model\n",
    "    else:\n",
    "        print('generating node attribute matrix from pre-trained CTGAN')        \n",
    "        ctgan = CTGANSynthesizer()\n",
    "        ctgan.fit(node_attributes[data_columns], discrete_columns, epochs=0) #this initializes the CTGAN\n",
    "        ctgan.generator.load_state_dict(torch.load('weights/ctgan_epoch_' + str(epochs)))\n",
    "        \n",
    "    # generate artificial node feature matrix\n",
    "    df_artificial = ctgan.sample(n)\n",
    "    \n",
    "    # save\n",
    "    df_artificial.to_pickle(save_path)"
   ]
  },
  {
   "cell_type": "code",
   "execution_count": 8,
   "metadata": {},
   "outputs": [
    {
     "data": {
      "text/html": [
       "<div>\n",
       "<style scoped>\n",
       "    .dataframe tbody tr th:only-of-type {\n",
       "        vertical-align: middle;\n",
       "    }\n",
       "\n",
       "    .dataframe tbody tr th {\n",
       "        vertical-align: top;\n",
       "    }\n",
       "\n",
       "    .dataframe thead th {\n",
       "        text-align: right;\n",
       "    }\n",
       "</style>\n",
       "<table border=\"1\" class=\"dataframe\">\n",
       "  <thead>\n",
       "    <tr style=\"text-align: right;\">\n",
       "      <th></th>\n",
       "      <th>age</th>\n",
       "      <th>gender</th>\n",
       "      <th>worker</th>\n",
       "      <th>relationship</th>\n",
       "      <th>household_income</th>\n",
       "      <th>household_size</th>\n",
       "      <th>zipcode</th>\n",
       "      <th>household_vehicles</th>\n",
       "      <th>household_workers</th>\n",
       "    </tr>\n",
       "  </thead>\n",
       "  <tbody>\n",
       "    <tr>\n",
       "      <th>0</th>\n",
       "      <td>19</td>\n",
       "      <td>2</td>\n",
       "      <td>1</td>\n",
       "      <td>1</td>\n",
       "      <td>13</td>\n",
       "      <td>4</td>\n",
       "      <td>97216</td>\n",
       "      <td>3</td>\n",
       "      <td>2</td>\n",
       "    </tr>\n",
       "    <tr>\n",
       "      <th>1</th>\n",
       "      <td>33</td>\n",
       "      <td>2</td>\n",
       "      <td>1</td>\n",
       "      <td>1</td>\n",
       "      <td>9</td>\n",
       "      <td>5</td>\n",
       "      <td>98662</td>\n",
       "      <td>2</td>\n",
       "      <td>2</td>\n",
       "    </tr>\n",
       "    <tr>\n",
       "      <th>2</th>\n",
       "      <td>83</td>\n",
       "      <td>2</td>\n",
       "      <td>2</td>\n",
       "      <td>1</td>\n",
       "      <td>12</td>\n",
       "      <td>2</td>\n",
       "      <td>97080</td>\n",
       "      <td>1</td>\n",
       "      <td>0</td>\n",
       "    </tr>\n",
       "    <tr>\n",
       "      <th>3</th>\n",
       "      <td>4</td>\n",
       "      <td>2</td>\n",
       "      <td>2</td>\n",
       "      <td>2</td>\n",
       "      <td>6</td>\n",
       "      <td>4</td>\n",
       "      <td>97266</td>\n",
       "      <td>2</td>\n",
       "      <td>2</td>\n",
       "    </tr>\n",
       "    <tr>\n",
       "      <th>4</th>\n",
       "      <td>10</td>\n",
       "      <td>1</td>\n",
       "      <td>2</td>\n",
       "      <td>2</td>\n",
       "      <td>13</td>\n",
       "      <td>6</td>\n",
       "      <td>97034</td>\n",
       "      <td>5</td>\n",
       "      <td>3</td>\n",
       "    </tr>\n",
       "  </tbody>\n",
       "</table>\n",
       "</div>"
      ],
      "text/plain": [
       "   age  gender  worker  relationship  household_income  household_size  \\\n",
       "0   19       2       1             1                13               4   \n",
       "1   33       2       1             1                 9               5   \n",
       "2   83       2       2             1                12               2   \n",
       "3    4       2       2             2                 6               4   \n",
       "4   10       1       2             2                13               6   \n",
       "\n",
       "   zipcode  household_vehicles  household_workers  \n",
       "0    97216                   3                  2  \n",
       "1    98662                   2                  2  \n",
       "2    97080                   1                  0  \n",
       "3    97266                   2                  2  \n",
       "4    97034                   5                  3  "
      ]
     },
     "execution_count": 8,
     "metadata": {},
     "output_type": "execute_result"
    }
   ],
   "source": [
    "df_artificial.head(5)"
   ]
  },
  {
   "cell_type": "markdown",
   "metadata": {},
   "source": [
    "Compare the marginals of the synthetic data to the true marginals from the NDSSL data:\n",
    "\n",
    "Note that these histograms for the household variables in the real, NDSSL data look a bit different than the histograms in the appendix. This is because here we are looking at the household variables on a per individual basis, whereas there we looked at the household variables on a per household basis. "
   ]
  },
  {
   "cell_type": "code",
   "execution_count": 9,
   "metadata": {},
   "outputs": [
    {
     "data": {
      "image/png": "[encoded data removed]",
      "text/plain": [
       "<Figure size 1152x576 with 8 Axes>"
      ]
     },
     "metadata": {
      "needs_background": "light"
     },
     "output_type": "display_data"
    }
   ],
   "source": [
    "alpha = 0.8\n",
    "\n",
    "fig, axarr = plt.subplots(2, 4, figsize=(16,8))\n",
    "fig.subplots_adjust(wspace=0.3)\n",
    "\n",
    "## age\n",
    "bins = [0,10,20,30,40,50,60,70,80,90,100]\n",
    "axarr[0,0].hist(node_attributes['age'].values, density=True, bins=bins, edgecolor='black', alpha=alpha, label='NDSSL')\n",
    "axarr[0,0].hist(df_artificial['age'].values, density=True, bins=bins, edgecolor='black', alpha=alpha, label='Generated')\n",
    "axarr[0,0].set_title('age')\n",
    "#bins = np.arange(1, node_attributes['age'].values.max() + 0.5) - 0.5\n",
    "axarr[0,0].set_xticks(bins)\n",
    "axarr[0,0].set_xlim([0, 100])\n",
    "axarr[0,0].legend()\n",
    "\n",
    "## gender\n",
    "bins = np.arange(node_attributes['gender'].values.min(), node_attributes['gender'].values.max() + 1)\n",
    "axarr[0,1].hist(node_attributes['gender'].values, density=True, edgecolor='black', alpha=alpha, label='NDSSL')\n",
    "axarr[0,1].hist(df_artificial['gender'].values, density=True, edgecolor='black', alpha=alpha, label='Generated')\n",
    "axarr[0,1].set_title('gender')\n",
    "axarr[0,1].set_xticks(bins)\n",
    "axarr[0,1].set_xticklabels(['male', 'female'])\n",
    "axarr[0,1].set_xlim([node_attributes['gender'].values.min(), node_attributes['gender'].values.max()])\n",
    "#axarr[0,1].legend()\n",
    "\n",
    "## worker\n",
    "bins = np.arange(node_attributes['worker'].values.min(), node_attributes['worker'].values.max() + 1)\n",
    "axarr[0,2].hist(node_attributes['worker'].values, density=True, edgecolor='black', alpha=alpha, label='NDSSL')\n",
    "axarr[0,2].hist(df_artificial['worker'].values, density=True, edgecolor='black', alpha=alpha, label='Generated')\n",
    "axarr[0,2].set_title('worker')\n",
    "axarr[0,2].set_xticks(bins)\n",
    "axarr[0,2].set_xticklabels(['employed', 'unemployed'])\n",
    "axarr[0,2].set_xlim([node_attributes['worker'].values.min(), node_attributes['worker'].values.max()])\n",
    "#axarr[0,2].legend()\n",
    "\n",
    "## relationship\n",
    "bins = np.arange(node_attributes['relationship'].values.min(), node_attributes['relationship'].values.max() + 2)\n",
    "axarr[0,3].hist(node_attributes['relationship'].values, bins=bins, density=True, edgecolor='black', alpha=alpha, label='NDSSL')\n",
    "axarr[0,3].hist(df_artificial['relationship'].values, bins=bins, density=True, edgecolor='black', alpha=alpha, label='Generated')\n",
    "axarr[0,3].set_title('relationship')\n",
    "axarr[0,3].set_xticks(bins[0:-1])\n",
    "axarr[0,3].set_xlim([node_attributes['relationship'].values.min(), node_attributes['relationship'].values.max()+1])\n",
    "#axarr[0,3].legend()\n",
    "\n",
    "## household_income\n",
    "bins = np.arange(node_attributes['household_income'].values.min(), node_attributes['household_income'].values.max() + 2)\n",
    "axarr[1,0].hist(node_attributes['household_income'].values, bins=bins, density=True, edgecolor='black', alpha=alpha, label='NDSSL')\n",
    "axarr[1,0].hist(df_artificial['household_income'].values, bins=bins, density=True, edgecolor='black', alpha=alpha, label='Generated')\n",
    "axarr[1,0].set_title('household_income')\n",
    "axarr[1,0].set_xticks(bins[:-1])\n",
    "axarr[1,0].set_xlim([node_attributes['household_income'].values.min(), node_attributes['household_income'].values.max()+1])\n",
    "#axarr[1,0].legend()\n",
    "\n",
    "## household_size\n",
    "bins = np.arange(node_attributes['household_size'].values.min(), node_attributes['household_size'].values.max() + 2)\n",
    "axarr[1,1].hist(node_attributes['household_size'].values, bins=bins, density=True, edgecolor='black', alpha=alpha, label='NDSSL')\n",
    "axarr[1,1].hist(df_artificial['household_size'].values, bins=bins, density=True, edgecolor='black', alpha=alpha, label='Generated')\n",
    "axarr[1,1].set_title('household_size')\n",
    "axarr[1,1].set_xticks(bins[:-1])\n",
    "axarr[1,1].set_xlim([node_attributes['household_size'].values.min(), node_attributes['household_size'].values.max()+1])\n",
    "#axarr[1,1].legend()\n",
    "\n",
    "## household_vehicles\n",
    "bins = np.arange(node_attributes['household_vehicles'].values.min(), node_attributes['household_vehicles'].values.max() + 2)\n",
    "axarr[1,2].hist(node_attributes['household_vehicles'].values, bins=bins, density=True, edgecolor='black', alpha=alpha, label='NDSSL')\n",
    "axarr[1,2].hist(df_artificial['household_vehicles'].values, bins=bins, density=True, edgecolor='black', alpha=alpha, label='Generated')\n",
    "axarr[1,2].set_title('household_vehicles')\n",
    "axarr[1,2].set_xticks(bins[:-1])\n",
    "axarr[1,2].set_xlim([node_attributes['household_vehicles'].values.min(), node_attributes['household_vehicles'].values.max()+1])\n",
    "#axarr[1,2].legend()\n",
    "\n",
    "## household_workers\n",
    "bins = np.arange(node_attributes['household_workers'].values.min(), node_attributes['household_workers'].values.max() + 2)\n",
    "axarr[1,3].hist(node_attributes['household_workers'].values, bins=bins, density=True, edgecolor='black', alpha=alpha, label='NDSSL')\n",
    "axarr[1,3].hist(df_artificial['household_workers'].values, bins=bins, density=True, edgecolor='black', alpha=alpha, label='Generated')\n",
    "axarr[1,3].set_title('household_workers')\n",
    "axarr[1,3].set_xticks(bins[:-1])\n",
    "axarr[1,3].set_xlim([node_attributes['household_workers'].values.min(), node_attributes['household_workers'].values.max()+1])\n",
    "#axarr[1,3].legend()\n",
    "\n",
    "plt.tight_layout()\n",
    "\n",
    "# shift subplots down:\n",
    "#st.set_y(1)\n",
    "#fig.subplots_adjust(top=0.85)\n",
    "\n",
    "## save and display\n",
    "save_path = 'figures/ctgan_vs_ndssl_histograms_n_' + str(n) + '_ctgan_epochs_' + str(epochs) + '.pdf'\n",
    "#plt.savefig(save_path, bbox_inches='tight')\n",
    "plt.show()"
   ]
  },
  {
   "cell_type": "markdown",
   "metadata": {},
   "source": [
    "## Initialize Random Graph"
   ]
  },
  {
   "cell_type": "markdown",
   "metadata": {},
   "source": [
    "Generate a new dataset corresponding to the generated X matrix and a randomly initialized edge list. We explored a number of options for initializing the graph:\n",
    "1. A scale-free graph with $n$ nodes\n",
    "2. An Erdos-Renyi G(N,M) graph with M chosen according to:\n",
    "    - keeping the density of the generated graph to be the same as in NDSSL\n",
    "    - keeping the edge/node ratio of the generated graph to be the same as in NDSSL\n",
    "    - to allow for a fractional scaling, i.e. \n",
    "    $$ M_{Gen} = M_{NDSSL} \\left( \\frac{N_{Gen}}{N_{NDSSL}} \\right)^{\\nu} $$\n",
    "3. A Watts-Strogatz small-world network"
   ]
  },
  {
   "cell_type": "code",
   "execution_count": 10,
   "metadata": {},
   "outputs": [],
   "source": [
    "#init_type = 'scale-free'\n",
    "#init_type = 'const-density'\n",
    "init_type = 'const-edge-node-ratio'\n",
    "#init_type = 'fractional scaling'\n",
    "#init_type = 'small-world'\n",
    "\n",
    "fraction = 1.03 #only used for the fractional scaling \n",
    "k, p = 10, 0.5 #small-world parameters"
   ]
  },
  {
   "cell_type": "code",
   "execution_count": 11,
   "metadata": {},
   "outputs": [
    {
     "name": "stdout",
     "output_type": "stream",
     "text": [
      "loading previously generated initial edge list\n"
     ]
    }
   ],
   "source": [
    "save_path = 'generated/edge_index_initial_' + init_type + '_n_' + str(n) + '.pt'\n",
    "\n",
    "# load a previously generated initial edge list or generate it for the first time\n",
    "if os.path.exists(save_path):    \n",
    "    print('loading previously generated initial edge list')\n",
    "    edge_index_initial = torch.load(save_path)\n",
    "else:\n",
    "    if init_type == 'scale-free':\n",
    "        # initialize as a BA scale-free network with n nodes\n",
    "        print('initializing as scale-free')    \n",
    "        G_generated_initial = nx.scale_free_graph(n)\n",
    "\n",
    "        edge_index_initial = []\n",
    "        for edge in G_generated_initial.edges.data():\n",
    "            edge_index_initial.append([edge[0], edge[1]])\n",
    "        edge_index_initial = np.transpose(np.asarray(edge_index_initial))\n",
    "        edge_index_initial = torch.LongTensor(edge_index_initial)\n",
    "\n",
    "    elif init_type == 'const-density':\n",
    "        # initialize as an ER graph with the same density as NDSSL\n",
    "        print('initializing as ER with constant density')    \n",
    "        ndssl_density = nx.density(G_real)\n",
    "        num_edges = int((n**2/2)*ndssl_density)\n",
    "        edge_index_initial = torch.sort(torch.randint(low=0, high=n, size=(2, num_edges)), 0)[0]\n",
    "        edge_index_initial, _ = remove_self_loops(edge_index_initial) #remove any self-loops\n",
    "\n",
    "    elif init_type == 'const-edge-node-ratio':\n",
    "        print('initializing as ER with constant M/N ratio')\n",
    "        # initialize as an ER graph with the same edge/node ratio as NDSSL\n",
    "        ndssl_edge_to_node_ratio = G_real.number_of_edges()/G_real.number_of_nodes()\n",
    "        num_edges = int(ndssl_edge_to_node_ratio * n)\n",
    "        edge_index_initial = torch.sort(torch.randint(low=0, high=n, size=(2, num_edges)), 0)[0]\n",
    "        edge_index_initial, _ = remove_self_loops(edge_index_initial) #remove any self-loops\n",
    "\n",
    "    elif init_type == 'fractional scaling':\n",
    "        print('initializing as ER with M given by fractional scaling')\n",
    "        # initialize as an ER graph with M ~ M_0*(N/N_0)^(3/2)\n",
    "        # with N_0, M_0 the number of nodes, edges in NDSSL\n",
    "        num_edges = int(G_real.number_of_edges()*(n/len(node_attributes)**(fraction)))\n",
    "        edge_index_initial = torch.sort(torch.randint(low=0, high=n, size=(2, num_edges)), 0)[0]\n",
    "        edge_index_initial, _ = remove_self_loops(edge_index_initial) #remove any self-loops\n",
    "\n",
    "    elif init_type == 'small-world':\n",
    "        # initialize as a (connected) small-world network\n",
    "        print('initializing as small-world')\n",
    "        G_generated_initial = nx.connected_watts_strogatz_graph(n=n, k=k, p=p, seed=123)\n",
    "\n",
    "        edge_index_initial = []\n",
    "        for edge in G_generated_initial.edges.data():\n",
    "            edge_index_initial.append([edge[0], edge[1]])\n",
    "        edge_index_initial = np.transpose(np.asarray(edge_index_initial))\n",
    "        edge_index_initial = torch.LongTensor(edge_index_initial)\n",
    "\n",
    "    torch.save(edge_index_initial, save_path)\n",
    "\n",
    "data = Data(x=dataframe2onehot(df_artificial, node_attributes), edge_index=edge_index_initial, edge_attr=None, y=torch.arange(0, len(df_artificial)))\n",
    "row, col = data.edge_index\n",
    "data.edge_attr = 1. / degree(col, data.num_nodes)[col]  # Norm by in-degree."
   ]
  },
  {
   "cell_type": "code",
   "execution_count": 12,
   "metadata": {},
   "outputs": [
    {
     "name": "stdout",
     "output_type": "stream",
     "text": [
      "number of nodes: 100000\n",
      "number of edges: 1236242\n"
     ]
    }
   ],
   "source": [
    "print('number of nodes: %i' %data.num_nodes)\n",
    "print('number of edges: %i' %data.num_edges)"
   ]
  },
  {
   "cell_type": "code",
   "execution_count": 13,
   "metadata": {},
   "outputs": [],
   "source": [
    "num_edges_initial = data.num_edges"
   ]
  },
  {
   "cell_type": "code",
   "execution_count": 14,
   "metadata": {},
   "outputs": [
    {
     "data": {
      "text/plain": [
       "143"
      ]
     },
     "execution_count": 14,
     "metadata": {},
     "output_type": "execute_result"
    }
   ],
   "source": [
    "data.x.shape[1]"
   ]
  },
  {
   "cell_type": "markdown",
   "metadata": {},
   "source": [
    "N.B. To avoid complications associated with the GraphSAINT sampler, here we are working with $n$ small enough to allow for the entire graph to be fit on the GPU. Larger values of $n$ will require that the GraphSAINT sampler is used. One technical issue is that the GraphSAINT sampler returns a batch of nodes and edges that are re-indexed, which then poses an obstacle for updating the full graph based on the re-wirings of a small batch of edges. To surmount this, I used the fact that in link prediction there is no y-variable, and I therefore used this \"wasted variable\" to store the node id information. This may become useful in future implementations, but it is not used at all here."
   ]
  },
  {
   "cell_type": "markdown",
   "metadata": {},
   "source": [
    "## Graph Generation by Iterated Link Prediction (Graph GILP)"
   ]
  },
  {
   "cell_type": "markdown",
   "metadata": {},
   "source": [
    "Load the Link Predictor Model"
   ]
  },
  {
   "cell_type": "code",
   "execution_count": 15,
   "metadata": {},
   "outputs": [],
   "source": [
    "linkpred_epochs = 600\n",
    "model = Net(num_node_features=data.x.shape[1], hidden_channels=256, embed_dim=64).to(device)\n",
    "model.load_state_dict(torch.load('weights/link_predictor_epoch_' + str(linkpred_epochs)))\n",
    "model.eval()\n",
    "model.set_aggr('mean')"
   ]
  },
  {
   "cell_type": "markdown",
   "metadata": {},
   "source": [
    "Run the main algorithm"
   ]
  },
  {
   "cell_type": "code",
   "execution_count": 16,
   "metadata": {},
   "outputs": [
    {
     "data": {
      "application/vnd.jupyter.widget-view+json": {
       "model_id": "ba91a1c3171d4f119ed32ad75a000a2d",
       "version_major": 2,
       "version_minor": 0
      },
      "text/plain": [
       "HBox(children=(FloatProgress(value=0.0, max=100000.0), HTML(value='')))"
      ]
     },
     "metadata": {},
     "output_type": "display_data"
    },
    {
     "name": "stdout",
     "output_type": "stream",
     "text": [
      "\n"
     ]
    },
    {
     "ename": "KeyboardInterrupt",
     "evalue": "",
     "output_type": "error",
     "traceback": [
      "\u001b[0;31m---------------------------------------------------------------------------\u001b[0m",
      "\u001b[0;31mKeyboardInterrupt\u001b[0m                         Traceback (most recent call last)",
      "\u001b[0;32m<ipython-input-16-d58f2716907c>\u001b[0m in \u001b[0;36m<module>\u001b[0;34m\u001b[0m\n\u001b[1;32m     12\u001b[0m     \u001b[0;32mfor\u001b[0m \u001b[0mi\u001b[0m \u001b[0;32min\u001b[0m \u001b[0mtqdm\u001b[0m\u001b[0;34m(\u001b[0m\u001b[0mrange\u001b[0m\u001b[0;34m(\u001b[0m\u001b[0mN_outer\u001b[0m\u001b[0;34m)\u001b[0m\u001b[0;34m)\u001b[0m\u001b[0;34m:\u001b[0m\u001b[0;34m\u001b[0m\u001b[0;34m\u001b[0m\u001b[0m\n\u001b[1;32m     13\u001b[0m \u001b[0;34m\u001b[0m\u001b[0m\n\u001b[0;32m---> 14\u001b[0;31m         \u001b[0mz\u001b[0m \u001b[0;34m=\u001b[0m \u001b[0mmodel\u001b[0m\u001b[0;34m(\u001b[0m\u001b[0mdata\u001b[0m\u001b[0;34m.\u001b[0m\u001b[0mx\u001b[0m\u001b[0;34m.\u001b[0m\u001b[0mto\u001b[0m\u001b[0;34m(\u001b[0m\u001b[0mdevice\u001b[0m\u001b[0;34m)\u001b[0m\u001b[0;34m,\u001b[0m \u001b[0mdata\u001b[0m\u001b[0;34m.\u001b[0m\u001b[0medge_index\u001b[0m\u001b[0;34m.\u001b[0m\u001b[0mto\u001b[0m\u001b[0;34m(\u001b[0m\u001b[0mdevice\u001b[0m\u001b[0;34m)\u001b[0m\u001b[0;34m,\u001b[0m \u001b[0mdata\u001b[0m\u001b[0;34m.\u001b[0m\u001b[0medge_attr\u001b[0m\u001b[0;34m.\u001b[0m\u001b[0mto\u001b[0m\u001b[0;34m(\u001b[0m\u001b[0mdevice\u001b[0m\u001b[0;34m)\u001b[0m\u001b[0;34m)\u001b[0m\u001b[0;34m\u001b[0m\u001b[0;34m\u001b[0m\u001b[0m\n\u001b[0m\u001b[1;32m     15\u001b[0m \u001b[0;34m\u001b[0m\u001b[0m\n\u001b[1;32m     16\u001b[0m         \u001b[0;32mfor\u001b[0m \u001b[0mj\u001b[0m \u001b[0;32min\u001b[0m \u001b[0mrange\u001b[0m\u001b[0;34m(\u001b[0m\u001b[0mN_inner\u001b[0m\u001b[0;34m)\u001b[0m\u001b[0;34m:\u001b[0m\u001b[0;34m\u001b[0m\u001b[0;34m\u001b[0m\u001b[0m\n",
      "\u001b[0;32m~/anaconda3/envs/pygeo/lib/python3.8/site-packages/torch/nn/modules/module.py\u001b[0m in \u001b[0;36m__call__\u001b[0;34m(self, *input, **kwargs)\u001b[0m\n\u001b[1;32m    548\u001b[0m             \u001b[0mresult\u001b[0m \u001b[0;34m=\u001b[0m \u001b[0mself\u001b[0m\u001b[0;34m.\u001b[0m\u001b[0m_slow_forward\u001b[0m\u001b[0;34m(\u001b[0m\u001b[0;34m*\u001b[0m\u001b[0minput\u001b[0m\u001b[0;34m,\u001b[0m \u001b[0;34m**\u001b[0m\u001b[0mkwargs\u001b[0m\u001b[0;34m)\u001b[0m\u001b[0;34m\u001b[0m\u001b[0;34m\u001b[0m\u001b[0m\n\u001b[1;32m    549\u001b[0m         \u001b[0;32melse\u001b[0m\u001b[0;34m:\u001b[0m\u001b[0;34m\u001b[0m\u001b[0;34m\u001b[0m\u001b[0m\n\u001b[0;32m--> 550\u001b[0;31m             \u001b[0mresult\u001b[0m \u001b[0;34m=\u001b[0m \u001b[0mself\u001b[0m\u001b[0;34m.\u001b[0m\u001b[0mforward\u001b[0m\u001b[0;34m(\u001b[0m\u001b[0;34m*\u001b[0m\u001b[0minput\u001b[0m\u001b[0;34m,\u001b[0m \u001b[0;34m**\u001b[0m\u001b[0mkwargs\u001b[0m\u001b[0;34m)\u001b[0m\u001b[0;34m\u001b[0m\u001b[0;34m\u001b[0m\u001b[0m\n\u001b[0m\u001b[1;32m    551\u001b[0m         \u001b[0;32mfor\u001b[0m \u001b[0mhook\u001b[0m \u001b[0;32min\u001b[0m \u001b[0mself\u001b[0m\u001b[0;34m.\u001b[0m\u001b[0m_forward_hooks\u001b[0m\u001b[0;34m.\u001b[0m\u001b[0mvalues\u001b[0m\u001b[0;34m(\u001b[0m\u001b[0;34m)\u001b[0m\u001b[0;34m:\u001b[0m\u001b[0;34m\u001b[0m\u001b[0;34m\u001b[0m\u001b[0m\n\u001b[1;32m    552\u001b[0m             \u001b[0mhook_result\u001b[0m \u001b[0;34m=\u001b[0m \u001b[0mhook\u001b[0m\u001b[0;34m(\u001b[0m\u001b[0mself\u001b[0m\u001b[0;34m,\u001b[0m \u001b[0minput\u001b[0m\u001b[0;34m,\u001b[0m \u001b[0mresult\u001b[0m\u001b[0;34m)\u001b[0m\u001b[0;34m\u001b[0m\u001b[0;34m\u001b[0m\u001b[0m\n",
      "\u001b[0;32m~/Dropbox/RAND/Current Projects/DGM/dgmnet/linkpred.py\u001b[0m in \u001b[0;36mforward\u001b[0;34m(self, x0, edge_index, edge_weight)\u001b[0m\n\u001b[1;32m     30\u001b[0m         \u001b[0mx1\u001b[0m \u001b[0;34m=\u001b[0m \u001b[0mF\u001b[0m\u001b[0;34m.\u001b[0m\u001b[0mtanh\u001b[0m\u001b[0;34m(\u001b[0m\u001b[0mself\u001b[0m\u001b[0;34m.\u001b[0m\u001b[0mconv1\u001b[0m\u001b[0;34m(\u001b[0m\u001b[0mx0\u001b[0m\u001b[0;34m,\u001b[0m \u001b[0medge_index\u001b[0m\u001b[0;34m,\u001b[0m \u001b[0medge_weight\u001b[0m\u001b[0;34m)\u001b[0m\u001b[0;34m)\u001b[0m\u001b[0;34m\u001b[0m\u001b[0;34m\u001b[0m\u001b[0m\n\u001b[1;32m     31\u001b[0m         \u001b[0mx1\u001b[0m \u001b[0;34m=\u001b[0m \u001b[0mF\u001b[0m\u001b[0;34m.\u001b[0m\u001b[0mdropout\u001b[0m\u001b[0;34m(\u001b[0m\u001b[0mx1\u001b[0m\u001b[0;34m,\u001b[0m \u001b[0mp\u001b[0m\u001b[0;34m=\u001b[0m\u001b[0;36m0.2\u001b[0m\u001b[0;34m,\u001b[0m \u001b[0mtraining\u001b[0m\u001b[0;34m=\u001b[0m\u001b[0mself\u001b[0m\u001b[0;34m.\u001b[0m\u001b[0mtraining\u001b[0m\u001b[0;34m)\u001b[0m\u001b[0;34m\u001b[0m\u001b[0;34m\u001b[0m\u001b[0m\n\u001b[0;32m---> 32\u001b[0;31m         \u001b[0mx2\u001b[0m \u001b[0;34m=\u001b[0m \u001b[0mF\u001b[0m\u001b[0;34m.\u001b[0m\u001b[0mtanh\u001b[0m\u001b[0;34m(\u001b[0m\u001b[0mself\u001b[0m\u001b[0;34m.\u001b[0m\u001b[0mconv2\u001b[0m\u001b[0;34m(\u001b[0m\u001b[0mx1\u001b[0m\u001b[0;34m,\u001b[0m \u001b[0medge_index\u001b[0m\u001b[0;34m,\u001b[0m \u001b[0medge_weight\u001b[0m\u001b[0;34m)\u001b[0m\u001b[0;34m)\u001b[0m\u001b[0;34m\u001b[0m\u001b[0;34m\u001b[0m\u001b[0m\n\u001b[0m\u001b[1;32m     33\u001b[0m         \u001b[0mx2\u001b[0m \u001b[0;34m=\u001b[0m \u001b[0mF\u001b[0m\u001b[0;34m.\u001b[0m\u001b[0mdropout\u001b[0m\u001b[0;34m(\u001b[0m\u001b[0mx2\u001b[0m\u001b[0;34m,\u001b[0m \u001b[0mp\u001b[0m\u001b[0;34m=\u001b[0m\u001b[0;36m0.2\u001b[0m\u001b[0;34m,\u001b[0m \u001b[0mtraining\u001b[0m\u001b[0;34m=\u001b[0m\u001b[0mself\u001b[0m\u001b[0;34m.\u001b[0m\u001b[0mtraining\u001b[0m\u001b[0;34m)\u001b[0m\u001b[0;34m\u001b[0m\u001b[0;34m\u001b[0m\u001b[0m\n\u001b[1;32m     34\u001b[0m         \u001b[0mx3\u001b[0m \u001b[0;34m=\u001b[0m \u001b[0mF\u001b[0m\u001b[0;34m.\u001b[0m\u001b[0mtanh\u001b[0m\u001b[0;34m(\u001b[0m\u001b[0mself\u001b[0m\u001b[0;34m.\u001b[0m\u001b[0mconv3\u001b[0m\u001b[0;34m(\u001b[0m\u001b[0mx2\u001b[0m\u001b[0;34m,\u001b[0m \u001b[0medge_index\u001b[0m\u001b[0;34m,\u001b[0m \u001b[0medge_weight\u001b[0m\u001b[0;34m)\u001b[0m\u001b[0;34m)\u001b[0m\u001b[0;34m\u001b[0m\u001b[0;34m\u001b[0m\u001b[0m\n",
      "\u001b[0;32m~/anaconda3/envs/pygeo/lib/python3.8/site-packages/torch/nn/modules/module.py\u001b[0m in \u001b[0;36m__call__\u001b[0;34m(self, *input, **kwargs)\u001b[0m\n\u001b[1;32m    548\u001b[0m             \u001b[0mresult\u001b[0m \u001b[0;34m=\u001b[0m \u001b[0mself\u001b[0m\u001b[0;34m.\u001b[0m\u001b[0m_slow_forward\u001b[0m\u001b[0;34m(\u001b[0m\u001b[0;34m*\u001b[0m\u001b[0minput\u001b[0m\u001b[0;34m,\u001b[0m \u001b[0;34m**\u001b[0m\u001b[0mkwargs\u001b[0m\u001b[0;34m)\u001b[0m\u001b[0;34m\u001b[0m\u001b[0;34m\u001b[0m\u001b[0m\n\u001b[1;32m    549\u001b[0m         \u001b[0;32melse\u001b[0m\u001b[0;34m:\u001b[0m\u001b[0;34m\u001b[0m\u001b[0;34m\u001b[0m\u001b[0m\n\u001b[0;32m--> 550\u001b[0;31m             \u001b[0mresult\u001b[0m \u001b[0;34m=\u001b[0m \u001b[0mself\u001b[0m\u001b[0;34m.\u001b[0m\u001b[0mforward\u001b[0m\u001b[0;34m(\u001b[0m\u001b[0;34m*\u001b[0m\u001b[0minput\u001b[0m\u001b[0;34m,\u001b[0m \u001b[0;34m**\u001b[0m\u001b[0mkwargs\u001b[0m\u001b[0;34m)\u001b[0m\u001b[0;34m\u001b[0m\u001b[0;34m\u001b[0m\u001b[0m\n\u001b[0m\u001b[1;32m    551\u001b[0m         \u001b[0;32mfor\u001b[0m \u001b[0mhook\u001b[0m \u001b[0;32min\u001b[0m \u001b[0mself\u001b[0m\u001b[0;34m.\u001b[0m\u001b[0m_forward_hooks\u001b[0m\u001b[0;34m.\u001b[0m\u001b[0mvalues\u001b[0m\u001b[0;34m(\u001b[0m\u001b[0;34m)\u001b[0m\u001b[0;34m:\u001b[0m\u001b[0;34m\u001b[0m\u001b[0;34m\u001b[0m\u001b[0m\n\u001b[1;32m    552\u001b[0m             \u001b[0mhook_result\u001b[0m \u001b[0;34m=\u001b[0m \u001b[0mhook\u001b[0m\u001b[0;34m(\u001b[0m\u001b[0mself\u001b[0m\u001b[0;34m,\u001b[0m \u001b[0minput\u001b[0m\u001b[0;34m,\u001b[0m \u001b[0mresult\u001b[0m\u001b[0;34m)\u001b[0m\u001b[0;34m\u001b[0m\u001b[0;34m\u001b[0m\u001b[0m\n",
      "\u001b[0;32m~/anaconda3/envs/pygeo/lib/python3.8/site-packages/torch_geometric/nn/conv/sage_conv.py\u001b[0m in \u001b[0;36mforward\u001b[0;34m(self, x, edge_index, edge_weight)\u001b[0m\n\u001b[1;32m     49\u001b[0m             \u001b[0mx\u001b[0m \u001b[0;34m=\u001b[0m \u001b[0;34m(\u001b[0m\u001b[0mx\u001b[0m\u001b[0;34m,\u001b[0m \u001b[0mx\u001b[0m\u001b[0;34m)\u001b[0m\u001b[0;34m\u001b[0m\u001b[0;34m\u001b[0m\u001b[0m\n\u001b[1;32m     50\u001b[0m \u001b[0;34m\u001b[0m\u001b[0m\n\u001b[0;32m---> 51\u001b[0;31m         \u001b[0mout\u001b[0m \u001b[0;34m=\u001b[0m \u001b[0mself\u001b[0m\u001b[0;34m.\u001b[0m\u001b[0mpropagate\u001b[0m\u001b[0;34m(\u001b[0m\u001b[0medge_index\u001b[0m\u001b[0;34m,\u001b[0m \u001b[0mx\u001b[0m\u001b[0;34m=\u001b[0m\u001b[0mx\u001b[0m\u001b[0;34m,\u001b[0m \u001b[0medge_weight\u001b[0m\u001b[0;34m=\u001b[0m\u001b[0medge_weight\u001b[0m\u001b[0;34m)\u001b[0m\u001b[0;34m\u001b[0m\u001b[0;34m\u001b[0m\u001b[0m\n\u001b[0m\u001b[1;32m     52\u001b[0m         \u001b[0mout\u001b[0m \u001b[0;34m=\u001b[0m \u001b[0mself\u001b[0m\u001b[0;34m.\u001b[0m\u001b[0mlin_rel\u001b[0m\u001b[0;34m(\u001b[0m\u001b[0mout\u001b[0m\u001b[0;34m)\u001b[0m \u001b[0;34m+\u001b[0m \u001b[0mself\u001b[0m\u001b[0;34m.\u001b[0m\u001b[0mlin_root\u001b[0m\u001b[0;34m(\u001b[0m\u001b[0mx\u001b[0m\u001b[0;34m[\u001b[0m\u001b[0;36m1\u001b[0m\u001b[0;34m]\u001b[0m\u001b[0;34m)\u001b[0m\u001b[0;34m\u001b[0m\u001b[0;34m\u001b[0m\u001b[0m\n\u001b[1;32m     53\u001b[0m \u001b[0;34m\u001b[0m\u001b[0m\n",
      "\u001b[0;32m~/anaconda3/envs/pygeo/lib/python3.8/site-packages/torch_geometric/nn/conv/message_passing.py\u001b[0m in \u001b[0;36mpropagate\u001b[0;34m(self, edge_index, size, **kwargs)\u001b[0m\n\u001b[1;32m    272\u001b[0m \u001b[0;34m\u001b[0m\u001b[0m\n\u001b[1;32m    273\u001b[0m             \u001b[0maggr_kwargs\u001b[0m \u001b[0;34m=\u001b[0m \u001b[0mself\u001b[0m\u001b[0;34m.\u001b[0m\u001b[0m__distribute__\u001b[0m\u001b[0;34m(\u001b[0m\u001b[0mself\u001b[0m\u001b[0;34m.\u001b[0m\u001b[0m__aggr_params__\u001b[0m\u001b[0;34m,\u001b[0m \u001b[0mkwargs\u001b[0m\u001b[0;34m)\u001b[0m\u001b[0;34m\u001b[0m\u001b[0;34m\u001b[0m\u001b[0m\n\u001b[0;32m--> 274\u001b[0;31m             \u001b[0mout\u001b[0m \u001b[0;34m=\u001b[0m \u001b[0mself\u001b[0m\u001b[0;34m.\u001b[0m\u001b[0maggregate\u001b[0m\u001b[0;34m(\u001b[0m\u001b[0mout\u001b[0m\u001b[0;34m,\u001b[0m \u001b[0;34m**\u001b[0m\u001b[0maggr_kwargs\u001b[0m\u001b[0;34m)\u001b[0m\u001b[0;34m\u001b[0m\u001b[0;34m\u001b[0m\u001b[0m\n\u001b[0m\u001b[1;32m    275\u001b[0m \u001b[0;34m\u001b[0m\u001b[0m\n\u001b[1;32m    276\u001b[0m         \u001b[0mupdate_kwargs\u001b[0m \u001b[0;34m=\u001b[0m \u001b[0mself\u001b[0m\u001b[0;34m.\u001b[0m\u001b[0m__distribute__\u001b[0m\u001b[0;34m(\u001b[0m\u001b[0mself\u001b[0m\u001b[0;34m.\u001b[0m\u001b[0m__update_params__\u001b[0m\u001b[0;34m,\u001b[0m \u001b[0mkwargs\u001b[0m\u001b[0;34m)\u001b[0m\u001b[0;34m\u001b[0m\u001b[0;34m\u001b[0m\u001b[0m\n",
      "\u001b[0;32m~/anaconda3/envs/pygeo/lib/python3.8/site-packages/torch_geometric/nn/conv/message_passing.py\u001b[0m in \u001b[0;36maggregate\u001b[0;34m(self, inputs, index, ptr, dim_size)\u001b[0m\n\u001b[1;32m    309\u001b[0m             \u001b[0;32mreturn\u001b[0m \u001b[0msegment_csr\u001b[0m\u001b[0;34m(\u001b[0m\u001b[0minputs\u001b[0m\u001b[0;34m,\u001b[0m \u001b[0mptr\u001b[0m\u001b[0;34m,\u001b[0m \u001b[0mreduce\u001b[0m\u001b[0;34m=\u001b[0m\u001b[0mself\u001b[0m\u001b[0;34m.\u001b[0m\u001b[0maggr\u001b[0m\u001b[0;34m)\u001b[0m\u001b[0;34m\u001b[0m\u001b[0;34m\u001b[0m\u001b[0m\n\u001b[1;32m    310\u001b[0m         \u001b[0;32melse\u001b[0m\u001b[0;34m:\u001b[0m\u001b[0;34m\u001b[0m\u001b[0;34m\u001b[0m\u001b[0m\n\u001b[0;32m--> 311\u001b[0;31m             return scatter(inputs, index, dim=self.node_dim, dim_size=dim_size,\n\u001b[0m\u001b[1;32m    312\u001b[0m                            reduce=self.aggr)\n\u001b[1;32m    313\u001b[0m \u001b[0;34m\u001b[0m\u001b[0m\n",
      "\u001b[0;32m~/anaconda3/envs/pygeo/lib/python3.8/site-packages/torch_scatter/scatter.py\u001b[0m in \u001b[0;36mscatter\u001b[0;34m(src, index, dim, out, dim_size, reduce)\u001b[0m\n\u001b[1;32m    152\u001b[0m         \u001b[0;32mreturn\u001b[0m \u001b[0mscatter_sum\u001b[0m\u001b[0;34m(\u001b[0m\u001b[0msrc\u001b[0m\u001b[0;34m,\u001b[0m \u001b[0mindex\u001b[0m\u001b[0;34m,\u001b[0m \u001b[0mdim\u001b[0m\u001b[0;34m,\u001b[0m \u001b[0mout\u001b[0m\u001b[0;34m,\u001b[0m \u001b[0mdim_size\u001b[0m\u001b[0;34m)\u001b[0m\u001b[0;34m\u001b[0m\u001b[0;34m\u001b[0m\u001b[0m\n\u001b[1;32m    153\u001b[0m     \u001b[0;32melif\u001b[0m \u001b[0mreduce\u001b[0m \u001b[0;34m==\u001b[0m \u001b[0;34m'mean'\u001b[0m\u001b[0;34m:\u001b[0m\u001b[0;34m\u001b[0m\u001b[0;34m\u001b[0m\u001b[0m\n\u001b[0;32m--> 154\u001b[0;31m         \u001b[0;32mreturn\u001b[0m \u001b[0mscatter_mean\u001b[0m\u001b[0;34m(\u001b[0m\u001b[0msrc\u001b[0m\u001b[0;34m,\u001b[0m \u001b[0mindex\u001b[0m\u001b[0;34m,\u001b[0m \u001b[0mdim\u001b[0m\u001b[0;34m,\u001b[0m \u001b[0mout\u001b[0m\u001b[0;34m,\u001b[0m \u001b[0mdim_size\u001b[0m\u001b[0;34m)\u001b[0m\u001b[0;34m\u001b[0m\u001b[0;34m\u001b[0m\u001b[0m\n\u001b[0m\u001b[1;32m    155\u001b[0m     \u001b[0;32melif\u001b[0m \u001b[0mreduce\u001b[0m \u001b[0;34m==\u001b[0m \u001b[0;34m'min'\u001b[0m\u001b[0;34m:\u001b[0m\u001b[0;34m\u001b[0m\u001b[0;34m\u001b[0m\u001b[0m\n\u001b[1;32m    156\u001b[0m         \u001b[0;32mreturn\u001b[0m \u001b[0mscatter_min\u001b[0m\u001b[0;34m(\u001b[0m\u001b[0msrc\u001b[0m\u001b[0;34m,\u001b[0m \u001b[0mindex\u001b[0m\u001b[0;34m,\u001b[0m \u001b[0mdim\u001b[0m\u001b[0;34m,\u001b[0m \u001b[0mout\u001b[0m\u001b[0;34m,\u001b[0m \u001b[0mdim_size\u001b[0m\u001b[0;34m)\u001b[0m\u001b[0;34m[\u001b[0m\u001b[0;36m0\u001b[0m\u001b[0;34m]\u001b[0m\u001b[0;34m\u001b[0m\u001b[0;34m\u001b[0m\u001b[0m\n",
      "\u001b[0;31mKeyboardInterrupt\u001b[0m: "
     ]
    }
   ],
   "source": [
    "batch_size = 100000\n",
    "rewire_strategy = 'sample'\n",
    "threshold = 0.5\n",
    "N_outer = 100000\n",
    "N_inner = 1\n",
    "\n",
    "num_edges_target = data.num_edges\n",
    "add_delete_record = {'iter':[], 'type':[], 'edits':[], 'edges':[]}\n",
    "count = 0\n",
    "with torch.no_grad():\n",
    "    \n",
    "    for i in tqdm(range(N_outer)):\n",
    "        \n",
    "        z = model(data.x.to(device), data.edge_index.to(device), data.edge_attr.to(device))\n",
    "\n",
    "        for j in range(N_inner):\n",
    "\n",
    "            count += 1\n",
    "            add_delete_record['iter'].append(count)\n",
    "            \n",
    "            # delete edges\n",
    "            if data.num_edges > num_edges_target:\n",
    "                pos_edges_index = torch.randint(low=0, high=data.num_edges, size=(batch_size, ))\n",
    "                pos_edges_batch = data.edge_index[:,pos_edges_index]\n",
    "                probs = model.pij(z, pos_edges_batch)\n",
    "\n",
    "                if rewire_strategy == 'sample':\n",
    "                    sampled_probs = probs > torch.rand(batch_size).to(device)\n",
    "                else:\n",
    "                    sampled_probs = probs > threshold\n",
    "\n",
    "                # update edges and edge weights                    \n",
    "                edges_to_be_removed_index = pos_edges_index[~sampled_probs]\n",
    "                data.edge_index = torch.LongTensor(np.delete(data.edge_index.numpy(), edges_to_be_removed_index.numpy(), 1))                \n",
    "                row, col = data.edge_index\n",
    "                data.edge_attr = 1. / degree(col, data.num_nodes)[col]  # Norm by in-degree.\n",
    "                \n",
    "                # log results\n",
    "                add_delete_record['type'].append('delete')\n",
    "                add_delete_record['edits'].append(edges_to_be_removed_index.shape[0])\n",
    "    \n",
    "            # add edges\n",
    "            else:\n",
    "                neg_edges_batch = torch.sort(torch.randint(low=0, high=n, size=(2, batch_size)), 0)[0]\n",
    "                probs = model.pij(z, neg_edges_batch)\n",
    "\n",
    "                if rewire_strategy == 'sample':\n",
    "                    sampled_probs = probs > torch.rand(batch_size).to(device)                \n",
    "                else:\n",
    "                    sampled_probs = probs > threshold              \n",
    "                    \n",
    "                # update edges and edge weights\n",
    "                data.edge_index = torch.cat((data.edge_index, neg_edges_batch[:,sampled_probs]), axis=1)\n",
    "                row, col = data.edge_index\n",
    "                data.edge_attr = 1. / degree(col, data.num_nodes)[col]  # Norm by in-degree.\n",
    "\n",
    "                # log results\n",
    "                add_delete_record['type'].append('add')\n",
    "                add_delete_record['edits'].append(neg_edges_batch[:, sampled_probs].shape[1])\n",
    "               \n",
    "            add_delete_record['edges'].append(data.num_edges)\n",
    "\n",
    "# clean-up\n",
    "add_delete_record['iter'] = np.asarray(add_delete_record['iter'])\n",
    "add_delete_record['type'] = np.asarray(add_delete_record['type'])\n",
    "add_delete_record['edits'] = np.asarray(add_delete_record['edits'])\n",
    "add_delete_record['edges'] = np.asarray(add_delete_record['edges'])\n",
    "\n",
    "# save edge list\n",
    "save_path = 'generated/edge_index_final_' + init_type + '_n_' + str(n) + '_ctgan_epochs_' + str(epochs) \\\n",
    "    + '_iterations_' + str(N_outer) + '_linkpred_epochs_' + str(linkpred_epochs) + '.pt'\n",
    "torch.save(data.edge_index, save_path)\n",
    "\n",
    "# save add_delete_record\n",
    "save_path = 'generated/add_delete_record_' + init_type + '_n_' + str(n) + '_ctgan_epochs_' + str(epochs) \\\n",
    "    + '_iterations_' + str(N_outer) + '_linkpred_epochs_' + str(linkpred_epochs) + '.pt'\n",
    "np.save(save_path, add_delete_record) "
   ]
  },
  {
   "cell_type": "markdown",
   "metadata": {},
   "source": [
    "## Analysis"
   ]
  },
  {
   "cell_type": "code",
   "execution_count": 17,
   "metadata": {},
   "outputs": [
    {
     "name": "stdout",
     "output_type": "stream",
     "text": [
      "number of add steps: 12749\n",
      "number of delete steps: 87251\n",
      "add/delete ratio: 0.15\n"
     ]
    }
   ],
   "source": [
    "print('number of add steps: %i' %np.sum(add_delete_record['type'] == 'add'))\n",
    "print('number of delete steps: %i' %np.sum(add_delete_record['type'] == 'delete'))\n",
    "print('add/delete ratio: %.2f' %\\\n",
    "      (np.sum(add_delete_record['type'] == 'add')/np.sum(add_delete_record['type'] == 'delete')))"
   ]
  },
  {
   "cell_type": "code",
   "execution_count": 18,
   "metadata": {},
   "outputs": [
    {
     "name": "stdout",
     "output_type": "stream",
     "text": [
      "edges added = 6.22e+08\n",
      "edges deleted = 6.27e+08\n"
     ]
    }
   ],
   "source": [
    "edges_added = np.sum(add_delete_record['edits'][add_delete_record['type'] == 'add'])\n",
    "edges_deleted = np.sum(add_delete_record['edits'][add_delete_record['type'] == 'delete']) \n",
    "\n",
    "print('edges added = %.2e' %edges_added)\n",
    "print('edges deleted = %.2e' %edges_deleted)"
   ]
  },
  {
   "cell_type": "code",
   "execution_count": 19,
   "metadata": {},
   "outputs": [
    {
     "name": "stdout",
     "output_type": "stream",
     "text": [
      "added edges/M = 505.36\n",
      "deleted edges/M = 509.78\n"
     ]
    }
   ],
   "source": [
    "print('added edges/M = %.2f' %(edges_added/data.num_edges))\n",
    "print('deleted edges/M = %.2f' %(edges_deleted/data.num_edges))"
   ]
  },
  {
   "cell_type": "code",
   "execution_count": 29,
   "metadata": {},
   "outputs": [
    {
     "data": {
      "image/png": "[encoded data removed]",
      "text/plain": [
       "<Figure size 1080x432 with 2 Axes>"
      ]
     },
     "metadata": {
      "needs_background": "light"
     },
     "output_type": "display_data"
    }
   ],
   "source": [
    "fig, ax = plt.subplots(1, 2, figsize=(15, 6))\n",
    "ax[0].text(-0.1, 1.05, '(a)', transform=ax[0].transAxes, size=15)\n",
    "ax[1].text(-0.1, 1.05, '(b)', transform=ax[1].transAxes, size=15)\n",
    "\n",
    "ax[0].plot(add_delete_record['iter'], add_delete_record['edges'] - num_edges_initial)\n",
    "ax[0].set_xlabel('iterations')\n",
    "ax[0].set_ylabel(r'$\\Delta$ edges')\n",
    "#ax[0].set_xscale('log')\n",
    "\n",
    "s = 10\n",
    "ax[1].scatter(add_delete_record['iter'][add_delete_record['type'] == 'add'], \\\n",
    "         add_delete_record['edits'][add_delete_record['type'] == 'add'], label='add', s=s)\n",
    "ax[1].scatter(add_delete_record['iter'][add_delete_record['type'] == 'delete'], \\\n",
    "         add_delete_record['edits'][add_delete_record['type'] == 'delete'], label='delete', s=s)\n",
    "ax[1].legend()\n",
    "ax[1].set_xlabel('iterations')\n",
    "ax[1].set_ylabel('edits')\n",
    "#ax[1].set_xscale('log')\n",
    "\n",
    "save_suffix =  init_type + '_n_' + str(n) + '_ctgan_epochs_' + str(epochs) \\\n",
    "    + '_iterations_' + str(N_outer) + '_linkpred_epochs_' + str(linkpred_epochs)\n",
    "\n",
    "plt.savefig('figures/graph_generation_history_' + save_suffix + '.png')\n",
    "plt.show()"
   ]
  },
  {
   "cell_type": "code",
   "execution_count": 20,
   "metadata": {},
   "outputs": [],
   "source": [
    "G_generated_initial = nx.Graph()\n",
    "G_generated_initial.add_edges_from(tuple(map(tuple, np.transpose(edge_index_initial.numpy()))))\n",
    "degree_sequence_generated_initial = np.asarray(sorted([d for n, d in G_generated_initial.degree()], reverse=False))\n",
    "degree_counter_generated_initial = Counter(degree_sequence_generated_initial)"
   ]
  },
  {
   "cell_type": "code",
   "execution_count": 21,
   "metadata": {},
   "outputs": [],
   "source": [
    "G_generated = nx.Graph()\n",
    "G_generated.add_edges_from(tuple(map(tuple, np.transpose(data.edge_index.numpy()))))\n",
    "degree_sequence_generated = np.asarray(sorted([d for n, d in G_generated.degree()], reverse=False))\n",
    "degree_counter_generated = Counter(degree_sequence_generated)"
   ]
  },
  {
   "cell_type": "code",
   "execution_count": 22,
   "metadata": {},
   "outputs": [
    {
     "name": "stdout",
     "output_type": "stream",
     "text": [
      "Real Graph\n",
      "--------------------\n",
      "number of nodes: 1575861 \n",
      "number of edges: 19481626 \n",
      "density: 1.57e-05\n",
      "triangles: 388850385\n",
      "\n",
      "\n",
      "Initial Generated Graph\n",
      "--------------------\n",
      "number of nodes: 100000 \n",
      "number of edges: 1236104 \n",
      "density: 2.47e-04\n",
      "triangles: 7680\n",
      "\n",
      "\n",
      "Generated Graph\n",
      "--------------------\n",
      "number of nodes: 87894 \n",
      "number of edges: 1238215 \n",
      "density: 3.21e-04\n",
      "triangles: 25767\n"
     ]
    }
   ],
   "source": [
    "print('Real Graph\\n--------------------')\n",
    "print('number of nodes: %i '% G_real.number_of_nodes())\n",
    "print('number of edges: %i '% G_real.number_of_edges())\n",
    "print('density: %.2e'% nx.density(G_real))\n",
    "#print('triangles: %i' %(np.sum(list(nx.triangles(G_real).values()))))\n",
    "print('triangles: %i' %(388850385))\n",
    "\n",
    "print('\\n')\n",
    "\n",
    "print('Initial Generated Graph\\n--------------------')\n",
    "print('number of nodes: %i '% G_generated_initial.number_of_nodes())\n",
    "print('number of edges: %i '% G_generated_initial.number_of_edges())\n",
    "print('density: %.2e'% nx.density(G_generated_initial))\n",
    "print('triangles: %i' %(np.sum(list(nx.triangles(G_generated_initial).values()))))\n",
    "print('\\n')\n",
    "\n",
    "print('Generated Graph\\n--------------------')\n",
    "print('number of nodes: %i '% G_generated.number_of_nodes())\n",
    "print('number of edges: %i '% G_generated.number_of_edges())\n",
    "print('density: %.2e'% nx.density(G_generated))\n",
    "print('triangles: %i' %(np.sum(list(nx.triangles(G_generated).values()))))"
   ]
  },
  {
   "cell_type": "code",
   "execution_count": 23,
   "metadata": {},
   "outputs": [
    {
     "data": {
      "image/png": "[encoded data removed]",
      "text/plain": [
       "<Figure size 576x432 with 1 Axes>"
      ]
     },
     "metadata": {
      "needs_background": "light"
     },
     "output_type": "display_data"
    }
   ],
   "source": [
    "fig, ax = plt.subplots(figsize=(8, 6))\n",
    "s = 6\n",
    "\n",
    "degree_values = np.asarray(list(degree_counter_generated.values()))\n",
    "degree_values = degree_values/np.sum(degree_values)\n",
    "plt.scatter(list(degree_counter_generated.keys()), degree_values, alpha=1, linewidth=2, s=s, marker='o', label='generated')\n",
    "\n",
    "degree_values = np.asarray(list(degree_counter_generated_initial.values()))\n",
    "degree_values = degree_values/np.sum(degree_values)\n",
    "plt.scatter(list(degree_counter_generated_initial.keys()), degree_values, alpha=1, linewidth=2, s=s, marker='o', label='initial generated')\n",
    "\n",
    "degree_values = np.asarray(list(degree_counter.values()))\n",
    "degree_values = degree_values/np.sum(degree_values)\n",
    "plt.scatter(list(degree_counter.keys()), degree_values, alpha=1, linewidth=2, s=s, marker='o', label='real', color='k')\n",
    "\n",
    "plt.xscale('log')\n",
    "plt.yscale('log')\n",
    "plt.title(\"Degree\")\n",
    "plt.ylabel(\"Density\")\n",
    "plt.xlabel(\"Degree\")\n",
    "plt.legend()\n",
    "#plt.savefig('figures/graph_generation_degree.pdf')\n",
    "plt.show()"
   ]
  },
  {
   "cell_type": "code",
   "execution_count": null,
   "metadata": {},
   "outputs": [],
   "source": []
  },
  {
   "cell_type": "code",
   "execution_count": null,
   "metadata": {},
   "outputs": [],
   "source": []
  }
 ],
 "metadata": {
  "kernelspec": {
   "display_name": "Python (pytorch geometric)",
   "language": "python",
   "name": "pygeo"
  },
  "language_info": {
   "codemirror_mode": {
    "name": "ipython",
    "version": 3
   },
   "file_extension": ".py",
   "mimetype": "text/x-python",
   "name": "python",
   "nbconvert_exporter": "python",
   "pygments_lexer": "ipython3",
   "version": "3.8.3"
  },
  "toc": {
   "base_numbering": 1,
   "nav_menu": {},
   "number_sections": true,
   "sideBar": true,
   "skip_h1_title": false,
   "title_cell": "Table of Contents",
   "title_sidebar": "Contents",
   "toc_cell": false,
   "toc_position": {},
   "toc_section_display": true,
   "toc_window_display": false
  }
 },
 "nbformat": 4,
 "nbformat_minor": 4
}
