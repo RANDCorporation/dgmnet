{
 "cells": [
  {
   "cell_type": "markdown",
   "metadata": {},
   "source": [
    "# Node Classification\n",
    "\n",
    "In this notebook we consider the problem of node classification for the NDSSL data. We will predict the worker attribute (which is 0 for unemployed and 1 for employed) with 3 different models:\n",
    "- Multi-Layer Perceptron (MLP)\n",
    "- Graph Convolutional Network (GCN)\n",
    "- GraphSAGE\n",
    "\n",
    "The results of this notebook are used in Sec. 5.1 of the report."
   ]
  },
  {
   "cell_type": "code",
   "execution_count": null,
   "metadata": {},
   "outputs": [],
   "source": [
    "from imports import *\n",
    "from nodepred import *\n",
    "from dataset import *\n",
    "\n",
    "import matplotlib.pyplot as plt\n",
    "import matplotlib\n",
    "import matplotlib.style as style \n",
    "style.use('seaborn-paper')\n",
    "%matplotlib inline\n",
    "\n",
    "fontsize = 12\n",
    "plt.rcParams.update({\n",
    "    'font.size': fontsize, \n",
    "    'axes.labelsize': fontsize, \n",
    "    'legend.fontsize': fontsize,\n",
    "    'xtick.labelsize': fontsize,\n",
    "    'ytick.labelsize': fontsize,\n",
    "    'axes.titlesize': fontsize\n",
    "                    })"
   ]
  },
  {
   "cell_type": "code",
   "execution_count": 2,
   "metadata": {},
   "outputs": [
    {
     "data": {
      "text/plain": [
       "<torch._C.Generator at 0x7f76bc042f70>"
      ]
     },
     "execution_count": 2,
     "metadata": {},
     "output_type": "execute_result"
    }
   ],
   "source": [
    "## set random seeds\n",
    "random.seed(123)\n",
    "np.random.seed(123)\n",
    "torch.manual_seed(123)"
   ]
  },
  {
   "cell_type": "code",
   "execution_count": 3,
   "metadata": {},
   "outputs": [
    {
     "name": "stdout",
     "output_type": "stream",
     "text": [
      "1.5.1\n",
      "device = cuda\n"
     ]
    }
   ],
   "source": [
    "print(torch.__version__)\n",
    "device = torch.device('cuda' if torch.cuda.is_available() else 'cpu')\n",
    "print('device =', device)"
   ]
  },
  {
   "cell_type": "markdown",
   "metadata": {},
   "source": [
    "## Load the Dataset"
   ]
  },
  {
   "cell_type": "code",
   "execution_count": 4,
   "metadata": {},
   "outputs": [
    {
     "data": {
      "text/html": [
       "<div>\n",
       "<style scoped>\n",
       "    .dataframe tbody tr th:only-of-type {\n",
       "        vertical-align: middle;\n",
       "    }\n",
       "\n",
       "    .dataframe tbody tr th {\n",
       "        vertical-align: top;\n",
       "    }\n",
       "\n",
       "    .dataframe thead th {\n",
       "        text-align: right;\n",
       "    }\n",
       "</style>\n",
       "<table border=\"1\" class=\"dataframe\">\n",
       "  <thead>\n",
       "    <tr style=\"text-align: right;\">\n",
       "      <th></th>\n",
       "      <th>person_id</th>\n",
       "      <th>household_id</th>\n",
       "      <th>age</th>\n",
       "      <th>gender</th>\n",
       "      <th>worker</th>\n",
       "      <th>relationship</th>\n",
       "      <th>household_income</th>\n",
       "      <th>household_size</th>\n",
       "      <th>zipcode</th>\n",
       "      <th>household_vehicles</th>\n",
       "      <th>household_workers</th>\n",
       "    </tr>\n",
       "  </thead>\n",
       "  <tbody>\n",
       "    <tr>\n",
       "      <th>0</th>\n",
       "      <td>2509159</td>\n",
       "      <td>2201175</td>\n",
       "      <td>42</td>\n",
       "      <td>1</td>\n",
       "      <td>1</td>\n",
       "      <td>1</td>\n",
       "      <td>13</td>\n",
       "      <td>3</td>\n",
       "      <td>97201</td>\n",
       "      <td>3</td>\n",
       "      <td>2</td>\n",
       "    </tr>\n",
       "    <tr>\n",
       "      <th>1</th>\n",
       "      <td>2509160</td>\n",
       "      <td>2201175</td>\n",
       "      <td>43</td>\n",
       "      <td>2</td>\n",
       "      <td>1</td>\n",
       "      <td>1</td>\n",
       "      <td>13</td>\n",
       "      <td>3</td>\n",
       "      <td>97201</td>\n",
       "      <td>3</td>\n",
       "      <td>2</td>\n",
       "    </tr>\n",
       "    <tr>\n",
       "      <th>2</th>\n",
       "      <td>2509161</td>\n",
       "      <td>2201175</td>\n",
       "      <td>17</td>\n",
       "      <td>1</td>\n",
       "      <td>2</td>\n",
       "      <td>2</td>\n",
       "      <td>13</td>\n",
       "      <td>3</td>\n",
       "      <td>97201</td>\n",
       "      <td>3</td>\n",
       "      <td>2</td>\n",
       "    </tr>\n",
       "    <tr>\n",
       "      <th>3</th>\n",
       "      <td>2509162</td>\n",
       "      <td>2201176</td>\n",
       "      <td>41</td>\n",
       "      <td>1</td>\n",
       "      <td>1</td>\n",
       "      <td>1</td>\n",
       "      <td>11</td>\n",
       "      <td>2</td>\n",
       "      <td>97201</td>\n",
       "      <td>3</td>\n",
       "      <td>1</td>\n",
       "    </tr>\n",
       "    <tr>\n",
       "      <th>4</th>\n",
       "      <td>2509163</td>\n",
       "      <td>2201176</td>\n",
       "      <td>11</td>\n",
       "      <td>1</td>\n",
       "      <td>2</td>\n",
       "      <td>2</td>\n",
       "      <td>11</td>\n",
       "      <td>2</td>\n",
       "      <td>97201</td>\n",
       "      <td>3</td>\n",
       "      <td>1</td>\n",
       "    </tr>\n",
       "  </tbody>\n",
       "</table>\n",
       "</div>"
      ],
      "text/plain": [
       "   person_id  household_id  age  gender  worker  relationship  \\\n",
       "0    2509159       2201175   42       1       1             1   \n",
       "1    2509160       2201175   43       2       1             1   \n",
       "2    2509161       2201175   17       1       2             2   \n",
       "3    2509162       2201176   41       1       1             1   \n",
       "4    2509163       2201176   11       1       2             2   \n",
       "\n",
       "   household_income  household_size  zipcode  household_vehicles  \\\n",
       "0                13               3    97201                   3   \n",
       "1                13               3    97201                   3   \n",
       "2                13               3    97201                   3   \n",
       "3                11               2    97201                   3   \n",
       "4                11               2    97201                   3   \n",
       "\n",
       "   household_workers  \n",
       "0                  2  \n",
       "1                  2  \n",
       "2                  2  \n",
       "3                  1  \n",
       "4                  1  "
      ]
     },
     "execution_count": 4,
     "metadata": {},
     "output_type": "execute_result"
    }
   ],
   "source": [
    "node_attributes = pd.read_csv('data/NDSSL data/raw/node_attributes.csv')\n",
    "node_attributes.head(5)"
   ]
  },
  {
   "cell_type": "code",
   "execution_count": 5,
   "metadata": {},
   "outputs": [
    {
     "name": "stdout",
     "output_type": "stream",
     "text": [
      "Processing...\n",
      "{'x': None, 'edge_index': tensor([[      0,       0,       1,  ..., 1486224, 1378614, 1556530],\n",
      "        [      1,       2,       2,  ..., 1601329, 1601329, 1601329]]), 'edge_attr': None, 'y': None, 'pos': None, 'norm': None, 'face': None, 'edge_weight': tensor([10.9161, 12.7494, 12.5828,  ...,  0.0497,  0.1667,  0.1667])}\n",
      "Done!\n",
      "{'x': None, 'edge_index': tensor([[      0,       0,       1,  ..., 1486224, 1378614, 1556530],\n",
      "        [      1,       2,       2,  ..., 1601329, 1601329, 1601329]]), 'edge_attr': None, 'y': None, 'pos': None, 'norm': None, 'face': None, 'edge_weight': tensor([10.9161, 12.7494, 12.5828,  ...,  0.0497,  0.1667,  0.1667])}\n"
     ]
    }
   ],
   "source": [
    "## remove old processed files\n",
    "import os, shutil\n",
    "if os.path.exists('data/NDSSL data/processed'):\n",
    "    shutil.rmtree('data/NDSSL data/processed')\n",
    "\n",
    "dataset = load_dataset(dataset_name='NDSSL')\n",
    "data = dataset[0]\n",
    "dataset.process()"
   ]
  },
  {
   "cell_type": "code",
   "execution_count": 6,
   "metadata": {},
   "outputs": [
    {
     "data": {
      "text/plain": [
       "torch.Size([1601330, 141])"
      ]
     },
     "execution_count": 6,
     "metadata": {},
     "output_type": "execute_result"
    }
   ],
   "source": [
    "data_columns = ['age', 'gender', 'zipcode', 'relationship',  \n",
    "                'household_workers', 'household_income', 'household_size', 'household_vehicles']\n",
    "data.x = dataframe2onehot(node_attributes[data_columns], node_attributes)\n",
    "data.x.shape"
   ]
  },
  {
   "cell_type": "code",
   "execution_count": 7,
   "metadata": {},
   "outputs": [
    {
     "data": {
      "text/plain": [
       "array([1, 2])"
      ]
     },
     "execution_count": 7,
     "metadata": {},
     "output_type": "execute_result"
    }
   ],
   "source": [
    "np.unique(node_attributes['worker'].values)"
   ]
  },
  {
   "cell_type": "code",
   "execution_count": 8,
   "metadata": {},
   "outputs": [
    {
     "data": {
      "text/plain": [
       "torch.Size([1601330])"
      ]
     },
     "execution_count": 8,
     "metadata": {},
     "output_type": "execute_result"
    }
   ],
   "source": [
    "data.y = torch.LongTensor(node_attributes['worker'].values - 1)\n",
    "data.y = data.y.type(torch.int64).reshape((len(node_attributes), 1))[:,0]\n",
    "data.y.shape"
   ]
  },
  {
   "cell_type": "code",
   "execution_count": 9,
   "metadata": {},
   "outputs": [
    {
     "data": {
      "text/plain": [
       "tensor([0, 0, 1, 0, 1, 0, 0, 0, 0, 0, 0, 0, 1, 1, 0, 0, 0, 0, 1, 1])"
      ]
     },
     "execution_count": 9,
     "metadata": {},
     "output_type": "execute_result"
    }
   ],
   "source": [
    "data.y[0:20]"
   ]
  },
  {
   "cell_type": "code",
   "execution_count": 10,
   "metadata": {},
   "outputs": [
    {
     "data": {
      "text/plain": [
       "2"
      ]
     },
     "execution_count": 10,
     "metadata": {},
     "output_type": "execute_result"
    }
   ],
   "source": [
    "num_classes = len(torch.unique(data.y))\n",
    "num_classes"
   ]
  },
  {
   "cell_type": "markdown",
   "metadata": {},
   "source": [
    "Make the train/val/test split. We could pick random subsets of the nodes, or make the split by household."
   ]
  },
  {
   "cell_type": "code",
   "execution_count": 11,
   "metadata": {},
   "outputs": [
    {
     "name": "stdout",
     "output_type": "stream",
     "text": [
      "number of distinct households: 632626\n",
      "number of training households: 506100\n",
      "number of validation households: 126526\n",
      "number of testing households: 0\n",
      "size of training set: 1280901\n",
      "size of validation set: 320429\n",
      "size of testing set: 0\n"
     ]
    }
   ],
   "source": [
    "split_by_household = True\n",
    "\n",
    "if not split_by_household:\n",
    "    ## create a train/val/test split\n",
    "    node_ids = list(set(list(node_attributes['person_id'])))\n",
    "    np.random.shuffle(node_ids)\n",
    "\n",
    "    ntrain = int(0.8 * len(node_ids))\n",
    "    nval = len(node_ids) - ntrain #int(0.2 * len(household_ids))\n",
    "    ntest = len(node_ids) - (ntrain + nval)\n",
    "\n",
    "    node_ids_train = node_ids[:ntrain]\n",
    "    node_ids_val = node_ids[ntrain:ntrain + nval]\n",
    "    node_ids_test = node_ids[ntrain + nval:]\n",
    "\n",
    "    train_mask = torch.IntTensor(node_attributes['person_id'].isin(node_ids_train)).type(torch.int64)\n",
    "    val_mask = torch.IntTensor(node_attributes['person_id'].isin(node_ids_val)).type(torch.int64)\n",
    "    test_mask = torch.IntTensor(node_attributes['person_id'].isin(node_ids_test)).type(torch.int64)\n",
    "\n",
    "    train_idx = np.arange(len(node_attributes))[train_mask == 1]\n",
    "    val_idx = np.arange(len(node_attributes))[val_mask == 1]\n",
    "    test_idx = np.arange(len(node_attributes))[test_mask == 1]\n",
    "\n",
    "    print('size of training set: %i' %torch.sum(train_mask).item())\n",
    "    print('size of validation set: %i' %torch.sum(val_mask).item())\n",
    "    print('size of testing set: %i' %torch.sum(test_mask).item())\n",
    "else:\n",
    "    ## create a train/val/test split by household\n",
    "    household_ids = list(set(list(node_attributes['household_id'])))\n",
    "    np.random.shuffle(household_ids)\n",
    "\n",
    "    ntrain_households = int(0.8 * len(household_ids))\n",
    "    nval_households = len(household_ids) - ntrain_households #int(0.2 * len(household_ids))\n",
    "    ntest_households = len(household_ids) - (ntrain_households + nval_households)\n",
    "\n",
    "    households_train = household_ids[:ntrain_households]\n",
    "    households_val = household_ids[ntrain_households:ntrain_households + nval_households]\n",
    "    households_test = household_ids[ntrain_households + nval_households:]\n",
    "\n",
    "    print('number of distinct households: %i' %len(household_ids))\n",
    "    print('number of training households: %i' %len(households_train))\n",
    "    print('number of validation households: %i' %len(households_val))\n",
    "    print('number of testing households: %i' %len(households_test))\n",
    "\n",
    "    train_mask = torch.IntTensor(node_attributes['household_id'].isin(households_train)).type(torch.bool)\n",
    "    val_mask = torch.IntTensor(node_attributes['household_id'].isin(households_val)).type(torch.bool)\n",
    "    test_mask = torch.IntTensor(node_attributes['household_id'].isin(households_test)).type(torch.bool)\n",
    "\n",
    "    train_idx = np.arange(len(node_attributes))[train_mask == 1]\n",
    "    val_idx = np.arange(len(node_attributes))[val_mask == 1]\n",
    "    test_idx = np.arange(len(node_attributes))[test_mask == 1]\n",
    "\n",
    "    print('size of training set: %i' %torch.sum(train_mask).item())\n",
    "    print('size of validation set: %i' %torch.sum(val_mask).item())\n",
    "    print('size of testing set: %i' %torch.sum(test_mask).item())"
   ]
  },
  {
   "cell_type": "code",
   "execution_count": 12,
   "metadata": {},
   "outputs": [],
   "source": [
    "data.train_mask = train_mask\n",
    "data.val_mask = val_mask\n",
    "data.test_mask = test_mask"
   ]
  },
  {
   "cell_type": "markdown",
   "metadata": {},
   "source": [
    "Break down the number of edges by train/test:"
   ]
  },
  {
   "cell_type": "code",
   "execution_count": 13,
   "metadata": {},
   "outputs": [
    {
     "name": "stdout",
     "output_type": "stream",
     "text": [
      "check: True\n",
      "fraction of train-train edges: 0.65\n",
      "fraction of train-test edges: 0.31\n",
      "fraction of test-test edges: 0.05\n"
     ]
    }
   ],
   "source": [
    "edge_tuple_list = tuple(map(tuple, np.transpose(data.edge_index.numpy())))\n",
    "edge_tuple_array = np.asarray(edge_tuple_list)\n",
    "\n",
    "edge_idx_train0 = np.isin(edge_tuple_array[:,0], train_idx)\n",
    "edge_idx_train1 = np.isin(edge_tuple_array[:,1], train_idx)\n",
    "\n",
    "Num_edges_train_train = np.sum(edge_idx_train0 & edge_idx_train1)\n",
    "Num_edges_test_test = np.sum(~edge_idx_train0 & ~edge_idx_train1)\n",
    "Num_edges_train_test = np.sum(~edge_idx_train0 & edge_idx_train1) \\\n",
    "                        + np.sum(edge_idx_train0 & ~edge_idx_train1)\n",
    "\n",
    "print('check:', edge_idx_train1.shape[0] \\\n",
    "      == (Num_edges_train_train + Num_edges_test_test + Num_edges_train_test))\n",
    "\n",
    "print('fraction of train-train edges: %.3f' % (Num_edges_train_train/data.edge_index.shape[1]))\n",
    "print('fraction of train-test edges: %.3f' % (Num_edges_train_test/data.edge_index.shape[1]))\n",
    "print('fraction of test-test edges: %.3f' % (Num_edges_test_test/data.edge_index.shape[1]))"
   ]
  },
  {
   "cell_type": "code",
   "execution_count": 14,
   "metadata": {},
   "outputs": [],
   "source": [
    "batch_size = 10000\n",
    "n_epochs = 50"
   ]
  },
  {
   "cell_type": "markdown",
   "metadata": {},
   "source": [
    "## Node classification: MLP "
   ]
  },
  {
   "cell_type": "code",
   "execution_count": 15,
   "metadata": {},
   "outputs": [],
   "source": [
    "full_set = torch.utils.data.TensorDataset(data.x, data.y)\n",
    "train_set = torch.utils.data.Subset(full_set, train_idx)\n",
    "val_set = torch.utils.data.Subset(full_set, val_idx)\n",
    "#test_set = torch.utils.data.Subset(full_set, test_idx)"
   ]
  },
  {
   "cell_type": "code",
   "execution_count": 16,
   "metadata": {},
   "outputs": [],
   "source": [
    "train_loader = torch.utils.data.DataLoader(train_set, batch_size=batch_size, shuffle=True)\n",
    "val_loader = torch.utils.data.DataLoader(val_set, batch_size=batch_size, shuffle=True)\n",
    "#test_loader = torch.utils.data.DataLoader(test_set, batch_size=batch_size, shuffle=True)"
   ]
  },
  {
   "cell_type": "code",
   "execution_count": 17,
   "metadata": {},
   "outputs": [
    {
     "name": "stdout",
     "output_type": "stream",
     "text": [
      "number of hidden units = 256\n",
      "number of trainable parameters 168450\n"
     ]
    }
   ],
   "source": [
    "h = 256\n",
    "print('number of hidden units = %i' %h)\n",
    "\n",
    "model = mlp(data.x.shape[1], h, num_classes).to(device)\n",
    "print('number of trainable parameters %i' %model_params(model))\n",
    "\n",
    "optimizer = torch.optim.Adam(model.parameters(), lr=1e-3)"
   ]
  },
  {
   "cell_type": "code",
   "execution_count": 18,
   "metadata": {},
   "outputs": [],
   "source": [
    "def train():\n",
    "    model.train()\n",
    "\n",
    "    total_loss = total_examples = 0\n",
    "    for x_batch, y_batch in train_loader:\n",
    "        x_batch = x_batch.to(device)\n",
    "        y_batch = y_batch.to(device)\n",
    "        optimizer.zero_grad()\n",
    "        out = model(x_batch)\n",
    "        loss = F.nll_loss(out, y_batch)\n",
    "        loss.backward()\n",
    "        optimizer.step()\n",
    "        total_loss += loss.item() * x_batch.shape[0]\n",
    "        total_examples += x_batch.shape[0]\n",
    "    \n",
    "    return total_loss/total_examples\n",
    "\n",
    "@torch.no_grad()\n",
    "def evaluator(data_loader):\n",
    "    model.eval()\n",
    "    \n",
    "    y_target = torch.empty(0)\n",
    "    y_pred = torch.empty(0)\n",
    "    loss = total_examples = 0.0\n",
    "    for x_batch, y_batch in data_loader:\n",
    "        x_batch,  y_batch = x_batch.to(device), y_batch.to(device)\n",
    "        total_examples += x_batch.shape[0]\n",
    "        \n",
    "        z = model(x_batch)\n",
    "        pred = 1.0*torch.argmax(nn.Softmax(dim=1)(z), axis=1).cpu()\n",
    "        loss += F.nll_loss(z, y_batch).item() * x_batch.shape[0]\n",
    "\n",
    "        y_target = torch.cat((y_target, 1.0 * y_batch.cpu()), 0)\n",
    "        y_pred = torch.cat((y_pred, pred), 0)\n",
    "        \n",
    "    y_target = y_target.numpy()\n",
    "    y_pred = y_pred.numpy()\n",
    "    \n",
    "    return loss/total_examples, y_target, y_pred"
   ]
  },
  {
   "cell_type": "code",
   "execution_count": 19,
   "metadata": {},
   "outputs": [
    {
     "name": "stdout",
     "output_type": "stream",
     "text": [
      "train batch length: 1280901, val batch length: 320429\n",
      "epoch: 0||train loss: 0.6900||val loss: 0.6902||train acc: 0.5035||val acc: 0.5025||train auc: 0.5000||val auc: 0.5000\n",
      "epoch: 1||train loss: 0.1913||val loss: 0.1910||train acc: 0.9263||val acc: 0.9259||train auc: 0.9261||val auc: 0.9258\n",
      "epoch: 2||train loss: 0.1584||val loss: 0.1586||train acc: 0.9340||val acc: 0.9331||train auc: 0.9339||val auc: 0.9331\n",
      "epoch: 3||train loss: 0.1475||val loss: 0.1480||train acc: 0.9361||val acc: 0.9353||train auc: 0.9360||val auc: 0.9352\n",
      "epoch: 4||train loss: 0.1434||val loss: 0.1442||train acc: 0.9374||val acc: 0.9365||train auc: 0.9373||val auc: 0.9365\n",
      "epoch: 5||train loss: 0.1380||val loss: 0.1395||train acc: 0.9391||val acc: 0.9381||train auc: 0.9391||val auc: 0.9380\n",
      "epoch: 6||train loss: 0.1364||val loss: 0.1379||train acc: 0.9407||val acc: 0.9394||train auc: 0.9406||val auc: 0.9393\n",
      "epoch: 7||train loss: 0.1329||val loss: 0.1347||train acc: 0.9422||val acc: 0.9411||train auc: 0.9421||val auc: 0.9410\n",
      "epoch: 8||train loss: 0.1325||val loss: 0.1350||train acc: 0.9422||val acc: 0.9409||train auc: 0.9420||val auc: 0.9407\n",
      "epoch: 9||train loss: 0.1280||val loss: 0.1308||train acc: 0.9448||val acc: 0.9435||train auc: 0.9447||val auc: 0.9434\n",
      "epoch: 10||train loss: 0.1252||val loss: 0.1281||train acc: 0.9458||val acc: 0.9440||train auc: 0.9457||val auc: 0.9440\n",
      "epoch: 11||train loss: 0.1225||val loss: 0.1258||train acc: 0.9474||val acc: 0.9461||train auc: 0.9473||val auc: 0.9461\n",
      "epoch: 12||train loss: 0.1222||val loss: 0.1258||train acc: 0.9477||val acc: 0.9464||train auc: 0.9475||val auc: 0.9463\n",
      "epoch: 13||train loss: 0.1186||val loss: 0.1222||train acc: 0.9492||val acc: 0.9478||train auc: 0.9491||val auc: 0.9478\n",
      "epoch: 14||train loss: 0.1162||val loss: 0.1198||train acc: 0.9512||val acc: 0.9493||train auc: 0.9511||val auc: 0.9492\n",
      "epoch: 15||train loss: 0.1133||val loss: 0.1173||train acc: 0.9513||val acc: 0.9495||train auc: 0.9512||val auc: 0.9494\n",
      "epoch: 16||train loss: 0.1119||val loss: 0.1157||train acc: 0.9525||val acc: 0.9505||train auc: 0.9525||val auc: 0.9505\n",
      "epoch: 17||train loss: 0.1131||val loss: 0.1169||train acc: 0.9522||val acc: 0.9504||train auc: 0.9521||val auc: 0.9503\n",
      "epoch: 18||train loss: 0.1067||val loss: 0.1109||train acc: 0.9545||val acc: 0.9526||train auc: 0.9544||val auc: 0.9525\n",
      "epoch: 19||train loss: 0.1075||val loss: 0.1117||train acc: 0.9544||val acc: 0.9524||train auc: 0.9543||val auc: 0.9523\n",
      "epoch: 20||train loss: 0.1038||val loss: 0.1082||train acc: 0.9557||val acc: 0.9535||train auc: 0.9556||val auc: 0.9534\n",
      "epoch: 21||train loss: 0.1032||val loss: 0.1075||train acc: 0.9559||val acc: 0.9540||train auc: 0.9559||val auc: 0.9539\n",
      "epoch: 22||train loss: 0.1010||val loss: 0.1057||train acc: 0.9563||val acc: 0.9543||train auc: 0.9562||val auc: 0.9543\n",
      "epoch: 23||train loss: 0.0999||val loss: 0.1046||train acc: 0.9575||val acc: 0.9555||train auc: 0.9574||val auc: 0.9554\n",
      "epoch: 24||train loss: 0.0974||val loss: 0.1024||train acc: 0.9583||val acc: 0.9562||train auc: 0.9582||val auc: 0.9561\n",
      "epoch: 25||train loss: 0.0965||val loss: 0.1016||train acc: 0.9589||val acc: 0.9566||train auc: 0.9589||val auc: 0.9566\n",
      "epoch: 26||train loss: 0.0957||val loss: 0.1006||train acc: 0.9590||val acc: 0.9565||train auc: 0.9589||val auc: 0.9564\n",
      "epoch: 27||train loss: 0.0937||val loss: 0.0987||train acc: 0.9598||val acc: 0.9573||train auc: 0.9597||val auc: 0.9573\n",
      "epoch: 28||train loss: 0.0928||val loss: 0.0978||train acc: 0.9607||val acc: 0.9583||train auc: 0.9607||val auc: 0.9583\n",
      "epoch: 29||train loss: 0.0907||val loss: 0.0958||train acc: 0.9617||val acc: 0.9593||train auc: 0.9617||val auc: 0.9592\n",
      "epoch: 30||train loss: 0.0905||val loss: 0.0954||train acc: 0.9617||val acc: 0.9592||train auc: 0.9617||val auc: 0.9592\n",
      "epoch: 31||train loss: 0.0883||val loss: 0.0936||train acc: 0.9624||val acc: 0.9600||train auc: 0.9624||val auc: 0.9600\n",
      "epoch: 32||train loss: 0.0874||val loss: 0.0928||train acc: 0.9629||val acc: 0.9605||train auc: 0.9629||val auc: 0.9604\n",
      "epoch: 33||train loss: 0.0874||val loss: 0.0927||train acc: 0.9629||val acc: 0.9607||train auc: 0.9628||val auc: 0.9606\n",
      "epoch: 34||train loss: 0.0863||val loss: 0.0917||train acc: 0.9629||val acc: 0.9606||train auc: 0.9628||val auc: 0.9605\n",
      "epoch: 35||train loss: 0.0850||val loss: 0.0907||train acc: 0.9632||val acc: 0.9607||train auc: 0.9632||val auc: 0.9606\n",
      "epoch: 36||train loss: 0.0833||val loss: 0.0888||train acc: 0.9650||val acc: 0.9621||train auc: 0.9649||val auc: 0.9620\n",
      "epoch: 37||train loss: 0.0832||val loss: 0.0885||train acc: 0.9652||val acc: 0.9621||train auc: 0.9651||val auc: 0.9621\n",
      "epoch: 38||train loss: 0.0821||val loss: 0.0875||train acc: 0.9649||val acc: 0.9621||train auc: 0.9648||val auc: 0.9621\n",
      "epoch: 39||train loss: 0.0820||val loss: 0.0878||train acc: 0.9653||val acc: 0.9625||train auc: 0.9652||val auc: 0.9624\n",
      "epoch: 40||train loss: 0.0803||val loss: 0.0858||train acc: 0.9660||val acc: 0.9634||train auc: 0.9660||val auc: 0.9634\n",
      "epoch: 41||train loss: 0.0787||val loss: 0.0848||train acc: 0.9666||val acc: 0.9634||train auc: 0.9666||val auc: 0.9634\n",
      "epoch: 42||train loss: 0.0783||val loss: 0.0839||train acc: 0.9671||val acc: 0.9642||train auc: 0.9670||val auc: 0.9641\n",
      "epoch: 43||train loss: 0.0779||val loss: 0.0835||train acc: 0.9679||val acc: 0.9650||train auc: 0.9679||val auc: 0.9650\n",
      "epoch: 44||train loss: 0.0769||val loss: 0.0829||train acc: 0.9676||val acc: 0.9648||train auc: 0.9675||val auc: 0.9648\n",
      "epoch: 45||train loss: 0.0767||val loss: 0.0825||train acc: 0.9676||val acc: 0.9647||train auc: 0.9676||val auc: 0.9646\n",
      "epoch: 46||train loss: 0.0764||val loss: 0.0822||train acc: 0.9680||val acc: 0.9649||train auc: 0.9679||val auc: 0.9649\n",
      "epoch: 47||train loss: 0.0751||val loss: 0.0807||train acc: 0.9685||val acc: 0.9655||train auc: 0.9685||val auc: 0.9655\n",
      "epoch: 48||train loss: 0.0742||val loss: 0.0800||train acc: 0.9690||val acc: 0.9659||train auc: 0.9690||val auc: 0.9659\n",
      "epoch: 49||train loss: 0.0744||val loss: 0.0802||train acc: 0.9688||val acc: 0.9655||train auc: 0.9688||val auc: 0.9655\n",
      "epoch: 50||train loss: 0.0736||val loss: 0.0794||train acc: 0.9694||val acc: 0.9662||train auc: 0.9693||val auc: 0.9662\n"
     ]
    }
   ],
   "source": [
    "loss_train_mlp = []\n",
    "acc_train_mlp = []\n",
    "auc_train_mlp = []\n",
    "ap_train_mlp = []\n",
    "loss_val_mlp = []\n",
    "acc_val_mlp = []\n",
    "auc_val_mlp = []\n",
    "ap_val_mlp = []\n",
    "\n",
    "for epoch in range(n_epochs+1):\n",
    "\n",
    "    # evaluate on both train and val sets\n",
    "    loss_train, y_target_train, y_pred_train = evaluator(train_loader)    \n",
    "    loss_val, y_target_val, y_pred_val = evaluator(val_loader)\n",
    "    \n",
    "    if epoch == 0:\n",
    "        print('train batch length: %i, val batch length: %i' %(len(y_pred_train), len(y_pred_val)))\n",
    "    \n",
    "    # compute the accuracy, average precision, AUC\n",
    "    acc_train = np.mean(y_pred_train == y_target_train)\n",
    "    auc_train = roc_auc_score(y_target_train, y_pred_train)\n",
    "    ap_train = average_precision_score(y_target_train, y_pred_train)\n",
    "    roc_train = roc_curve(y_target_train, y_pred_train)\n",
    "\n",
    "    acc_val = np.mean(y_pred_val == y_target_val)\n",
    "    auc_val = roc_auc_score(y_target_val, y_pred_val)\n",
    "    ap_val = average_precision_score(y_target_val, y_pred_val)\n",
    "    roc_val = roc_curve(y_target_val, y_pred_val)\n",
    "\n",
    "    # record the results\n",
    "    loss_train_mlp.append(loss_train)\n",
    "    acc_train_mlp.append(acc_train)\n",
    "    auc_train_mlp.append(auc_train)\n",
    "    ap_train_mlp.append(ap_train)\n",
    "    \n",
    "    loss_val_mlp.append(loss_val)\n",
    "    acc_val_mlp.append(acc_val)\n",
    "    auc_val_mlp.append(auc_val)\n",
    "    ap_val_mlp.append(ap_val)\n",
    "\n",
    "    # print results\n",
    "    print('epoch: %i||train loss: %.4f||val loss: %.4f||train acc: %.4f||val acc: %.4f||train auc: %.4f||val auc: %.4f' \\\n",
    "          % (epoch, loss_train, loss_val, acc_train, acc_val, auc_train, auc_val))\n",
    "    #print('epoch: %i||train loss: %.4f||val loss: %.4f||train acc: %.4f||val acc: %.4f' \\\n",
    "    #      % (epoch, loss_train, loss_val, acc_train, acc_val))\n",
    "    \n",
    "    # train\n",
    "    if epoch != n_epochs:\n",
    "        loss_train = train()\n"
   ]
  },
  {
   "cell_type": "code",
   "execution_count": 20,
   "metadata": {},
   "outputs": [
    {
     "data": {
      "image/png": "[encoded data removed]",
      "text/plain": [
       "<Figure size 864x288 with 2 Axes>"
      ]
     },
     "metadata": {
      "needs_background": "light"
     },
     "output_type": "display_data"
    }
   ],
   "source": [
    "fig, ax = plt.subplots(1, 2, figsize=(12,4))\n",
    "fig.subplots_adjust(wspace=0.3)\n",
    "\n",
    "ax[0].plot(np.arange(1, len(loss_train_mlp)+1), loss_train_mlp)\n",
    "ax[0].plot(np.arange(1, len(loss_val_mlp)+1), loss_val_mlp)\n",
    "ax[0].set_xlabel('epochs')\n",
    "ax[0].set_ylabel('BCE loss')\n",
    "#ax[0].set_xscale('log')\n",
    "#ax[0].set_yscale('log')\n",
    "#ax[0].set_ylim([np.min(loss_mlp), np.max(loss_mlp)])\n",
    "\n",
    "ax[1].plot(acc_train_mlp)\n",
    "ax[1].plot(acc_val_mlp)\n",
    "#ax[1].plot(ap_mlp, label='AP')\n",
    "ax[1].set_xlabel('epochs')\n",
    "ax[1].set_ylabel('accuracy')\n",
    "#ax[1].set_xscale('log')\n",
    "#ax[1].legend()\n",
    "\n",
    "#plt.savefig(\"figures/node_prediction_mlp.pdf\", bbox_inches='tight')\n",
    "plt.show()"
   ]
  },
  {
   "cell_type": "markdown",
   "metadata": {},
   "source": [
    "## Node classification: Graph Neural Networks"
   ]
  },
  {
   "cell_type": "code",
   "execution_count": 21,
   "metadata": {},
   "outputs": [
    {
     "name": "stderr",
     "output_type": "stream",
     "text": [
      "Compute GraphSAINT normalization: : 165000372it [01:43, 1588527.13it/s]                             \n"
     ]
    }
   ],
   "source": [
    "# set the number of steps to match what was used for the MLP\n",
    "walk_length = 100\n",
    "num_steps = 10\n",
    "\n",
    "loader = GraphSAINTRandomWalkSampler(data, batch_size=batch_size, walk_length=walk_length,\n",
    "                                     num_steps=num_steps, sample_coverage=100, save_dir=None)"
   ]
  },
  {
   "cell_type": "markdown",
   "metadata": {},
   "source": [
    "Adjust the number of epochs so that in both the MLP and GNN approaches roughly the same number of samples are visited during training."
   ]
  },
  {
   "cell_type": "code",
   "execution_count": 22,
   "metadata": {},
   "outputs": [],
   "source": [
    "mlp_epoch_size = 0\n",
    "for batch in train_loader:\n",
    "    mlp_epoch_size += batch[1].size()[0]\n",
    "    \n",
    "gnn_epoch_size = 0\n",
    "for batch in loader:\n",
    "    gnn_epoch_size += batch.y[batch.train_mask].size()[0]"
   ]
  },
  {
   "cell_type": "code",
   "execution_count": 23,
   "metadata": {},
   "outputs": [
    {
     "data": {
      "text/plain": [
       "67"
      ]
     },
     "execution_count": 23,
     "metadata": {},
     "output_type": "execute_result"
    }
   ],
   "source": [
    "n_epochs = int((mlp_epoch_size/gnn_epoch_size)*n_epochs)\n",
    "n_epochs"
   ]
  },
  {
   "cell_type": "markdown",
   "metadata": {},
   "source": [
    "### GCN\n",
    "\n",
    "documentation: https://pytorch-geometric.readthedocs.io/en/latest/modules/nn.html?highlight=GCNConv#torch_geometric.nn.conv.GCNConv"
   ]
  },
  {
   "cell_type": "code",
   "execution_count": 24,
   "metadata": {},
   "outputs": [
    {
     "name": "stdout",
     "output_type": "stream",
     "text": [
      "number of hidden units = 256\n",
      "number of trainable parameters 168450\n"
     ]
    }
   ],
   "source": [
    "h = 256\n",
    "print('number of hidden units = %i' %h)\n",
    "\n",
    "model = GCN(data.x.shape[1], h, num_classes).to(device)\n",
    "model.set_aggr('mean')\n",
    "print('number of trainable parameters %i' %model_params(model))\n",
    "\n",
    "optimizer = torch.optim.Adam(model.parameters(), lr=1e-3)"
   ]
  },
  {
   "cell_type": "code",
   "execution_count": 25,
   "metadata": {},
   "outputs": [],
   "source": [
    "def train():\n",
    "    model.train()\n",
    "\n",
    "    total_loss = total_examples = 0\n",
    "    for batch in loader:\n",
    "        batch = batch.to(device)\n",
    "        optimizer.zero_grad()\n",
    "        out = model(batch.x, batch.edge_index)\n",
    "        batch_size = out[batch.train_mask].shape[0]\n",
    "        loss = F.nll_loss(out[batch.train_mask], batch.y[batch.train_mask])\n",
    "        loss.backward()\n",
    "        optimizer.step()\n",
    "        total_loss += loss.item() * batch_size\n",
    "        total_examples += batch_size\n",
    "    return total_loss / total_examples\n",
    "\n",
    "@torch.no_grad()\n",
    "def evaluator_train():\n",
    "    model.eval()\n",
    "    \n",
    "    y_target = torch.empty(0)\n",
    "    y_pred = torch.empty(0)\n",
    "    total_loss = total_examples = 0\n",
    "    for batch in loader:\n",
    "        batch = batch.to(device)\n",
    "        out = model(batch.x, batch.edge_index)\n",
    "        batch_size = out[batch.train_mask].shape[0]\n",
    "        total_examples += batch_size\n",
    "        total_loss += F.nll_loss(out[batch.train_mask], batch.y[batch.train_mask]).item() * batch_size\n",
    "        \n",
    "        y_target = torch.cat((y_target, 1.0 * batch.y[batch.train_mask].cpu()), 0)\n",
    "        y_pred = torch.cat((y_pred, 1.0 * torch.argmax(nn.Softmax()(out[batch.train_mask]), axis=1).cpu()), 0)\n",
    "        \n",
    "    y_target = y_target.numpy()\n",
    "    y_pred = y_pred.numpy()\n",
    "    \n",
    "    return total_loss/total_examples, y_target, y_pred\n",
    "\n",
    "@torch.no_grad()\n",
    "def evaluator_val():\n",
    "    model.eval()\n",
    "    \n",
    "    y_target = torch.empty(0)\n",
    "    y_pred = torch.empty(0)\n",
    "    total_loss = total_examples = 0\n",
    "    for batch in loader:\n",
    "        batch = batch.to(device)\n",
    "        out = model(batch.x, batch.edge_index)\n",
    "        batch_size = out[batch.val_mask].shape[0]\n",
    "        total_examples += batch_size\n",
    "        total_loss += F.nll_loss(out[batch.val_mask], batch.y[batch.val_mask]).item() * batch_size\n",
    "        \n",
    "        y_target = torch.cat((y_target, 1.0 * batch.y[batch.val_mask].cpu()), 0)\n",
    "        y_pred = torch.cat((y_pred, 1.0 * torch.argmax(nn.Softmax()(out[batch.val_mask]), axis=1).cpu()), 0)\n",
    "\n",
    "    y_target = y_target.numpy()\n",
    "    y_pred = y_pred.numpy()\n",
    "    \n",
    "    return total_loss/total_examples, y_target, y_pred"
   ]
  },
  {
   "cell_type": "code",
   "execution_count": 26,
   "metadata": {},
   "outputs": [
    {
     "name": "stdout",
     "output_type": "stream",
     "text": [
      "number of training examples: 942650, number of validation examples: 236441\n",
      "epoch: 0||train loss: 0.6930||val loss: 0.6930||train acc: 0.5039||val acc: 0.5032||train auc: 0.5011||val auc: 0.5003\n",
      "epoch: 1||train loss: 0.6900||val loss: 0.6900||train acc: 0.5448||val acc: 0.5479||train auc: 0.5431||val auc: 0.5463\n",
      "epoch: 2||train loss: 0.6807||val loss: 0.6809||train acc: 0.5505||val acc: 0.5550||train auc: 0.5501||val auc: 0.5545\n",
      "epoch: 3||train loss: 0.6680||val loss: 0.6696||train acc: 0.5650||val acc: 0.5663||train auc: 0.5640||val auc: 0.5650\n",
      "epoch: 4||train loss: 0.6571||val loss: 0.6577||train acc: 0.5926||val acc: 0.5957||train auc: 0.5919||val auc: 0.5945\n",
      "epoch: 5||train loss: 0.6507||val loss: 0.6518||train acc: 0.6072||val acc: 0.6090||train auc: 0.6064||val auc: 0.6076\n",
      "epoch: 6||train loss: 0.6444||val loss: 0.6453||train acc: 0.6119||val acc: 0.6144||train auc: 0.6115||val auc: 0.6140\n",
      "epoch: 7||train loss: 0.6389||val loss: 0.6404||train acc: 0.6142||val acc: 0.6153||train auc: 0.6135||val auc: 0.6144\n",
      "epoch: 8||train loss: 0.6344||val loss: 0.6355||train acc: 0.6179||val acc: 0.6193||train auc: 0.6175||val auc: 0.6185\n",
      "epoch: 9||train loss: 0.6299||val loss: 0.6325||train acc: 0.6218||val acc: 0.6204||train auc: 0.6215||val auc: 0.6200\n",
      "epoch: 10||train loss: 0.6284||val loss: 0.6303||train acc: 0.6231||val acc: 0.6213||train auc: 0.6232||val auc: 0.6215\n",
      "epoch: 11||train loss: 0.6254||val loss: 0.6265||train acc: 0.6256||val acc: 0.6244||train auc: 0.6252||val auc: 0.6240\n",
      "epoch: 12||train loss: 0.6236||val loss: 0.6252||train acc: 0.6263||val acc: 0.6242||train auc: 0.6256||val auc: 0.6234\n",
      "epoch: 13||train loss: 0.6225||val loss: 0.6240||train acc: 0.6269||val acc: 0.6263||train auc: 0.6268||val auc: 0.6263\n",
      "epoch: 14||train loss: 0.6210||val loss: 0.6224||train acc: 0.6275||val acc: 0.6281||train auc: 0.6271||val auc: 0.6276\n",
      "epoch: 15||train loss: 0.6201||val loss: 0.6216||train acc: 0.6273||val acc: 0.6268||train auc: 0.6269||val auc: 0.6263\n",
      "epoch: 16||train loss: 0.6187||val loss: 0.6204||train acc: 0.6283||val acc: 0.6274||train auc: 0.6281||val auc: 0.6271\n",
      "epoch: 17||train loss: 0.6175||val loss: 0.6191||train acc: 0.6298||val acc: 0.6296||train auc: 0.6295||val auc: 0.6290\n",
      "epoch: 18||train loss: 0.6160||val loss: 0.6169||train acc: 0.6305||val acc: 0.6308||train auc: 0.6302||val auc: 0.6306\n",
      "epoch: 19||train loss: 0.6149||val loss: 0.6161||train acc: 0.6312||val acc: 0.6318||train auc: 0.6310||val auc: 0.6316\n",
      "epoch: 20||train loss: 0.6143||val loss: 0.6161||train acc: 0.6318||val acc: 0.6295||train auc: 0.6316||val auc: 0.6293\n",
      "epoch: 21||train loss: 0.6124||val loss: 0.6151||train acc: 0.6330||val acc: 0.6296||train auc: 0.6325||val auc: 0.6291\n",
      "epoch: 22||train loss: 0.6114||val loss: 0.6131||train acc: 0.6334||val acc: 0.6338||train auc: 0.6330||val auc: 0.6331\n",
      "epoch: 23||train loss: 0.6110||val loss: 0.6130||train acc: 0.6340||val acc: 0.6326||train auc: 0.6335||val auc: 0.6320\n",
      "epoch: 24||train loss: 0.6097||val loss: 0.6119||train acc: 0.6349||val acc: 0.6330||train auc: 0.6344||val auc: 0.6325\n",
      "epoch: 25||train loss: 0.6079||val loss: 0.6108||train acc: 0.6364||val acc: 0.6344||train auc: 0.6360||val auc: 0.6339\n",
      "epoch: 26||train loss: 0.6076||val loss: 0.6098||train acc: 0.6357||val acc: 0.6349||train auc: 0.6352||val auc: 0.6343\n",
      "epoch: 27||train loss: 0.6062||val loss: 0.6091||train acc: 0.6369||val acc: 0.6348||train auc: 0.6364||val auc: 0.6342\n",
      "epoch: 28||train loss: 0.6056||val loss: 0.6077||train acc: 0.6375||val acc: 0.6365||train auc: 0.6369||val auc: 0.6358\n",
      "epoch: 29||train loss: 0.6040||val loss: 0.6078||train acc: 0.6394||val acc: 0.6354||train auc: 0.6392||val auc: 0.6351\n",
      "epoch: 30||train loss: 0.6034||val loss: 0.6076||train acc: 0.6394||val acc: 0.6363||train auc: 0.6394||val auc: 0.6363\n",
      "epoch: 31||train loss: 0.6024||val loss: 0.6051||train acc: 0.6396||val acc: 0.6379||train auc: 0.6393||val auc: 0.6375\n",
      "epoch: 32||train loss: 0.6009||val loss: 0.6036||train acc: 0.6409||val acc: 0.6391||train auc: 0.6407||val auc: 0.6387\n",
      "epoch: 33||train loss: 0.6001||val loss: 0.6022||train acc: 0.6415||val acc: 0.6401||train auc: 0.6415||val auc: 0.6401\n",
      "epoch: 34||train loss: 0.5981||val loss: 0.6006||train acc: 0.6432||val acc: 0.6415||train auc: 0.6428||val auc: 0.6411\n",
      "epoch: 35||train loss: 0.5987||val loss: 0.6011||train acc: 0.6425||val acc: 0.6411||train auc: 0.6427||val auc: 0.6413\n",
      "epoch: 36||train loss: 0.5973||val loss: 0.5996||train acc: 0.6427||val acc: 0.6420||train auc: 0.6419||val auc: 0.6410\n",
      "epoch: 37||train loss: 0.5965||val loss: 0.5988||train acc: 0.6435||val acc: 0.6430||train auc: 0.6427||val auc: 0.6419\n",
      "epoch: 38||train loss: 0.5939||val loss: 0.5971||train acc: 0.6460||val acc: 0.6445||train auc: 0.6455||val auc: 0.6441\n",
      "epoch: 39||train loss: 0.5933||val loss: 0.5963||train acc: 0.6461||val acc: 0.6454||train auc: 0.6460||val auc: 0.6453\n",
      "epoch: 40||train loss: 0.5924||val loss: 0.5949||train acc: 0.6470||val acc: 0.6463||train auc: 0.6466||val auc: 0.6458\n",
      "epoch: 41||train loss: 0.5908||val loss: 0.5945||train acc: 0.6488||val acc: 0.6465||train auc: 0.6484||val auc: 0.6461\n",
      "epoch: 42||train loss: 0.5909||val loss: 0.5933||train acc: 0.6489||val acc: 0.6483||train auc: 0.6485||val auc: 0.6478\n",
      "epoch: 43||train loss: 0.5893||val loss: 0.5922||train acc: 0.6493||val acc: 0.6489||train auc: 0.6492||val auc: 0.6487\n",
      "epoch: 44||train loss: 0.5879||val loss: 0.5908||train acc: 0.6498||val acc: 0.6493||train auc: 0.6499||val auc: 0.6494\n",
      "epoch: 45||train loss: 0.5866||val loss: 0.5904||train acc: 0.6519||val acc: 0.6504||train auc: 0.6518||val auc: 0.6503\n",
      "epoch: 46||train loss: 0.5855||val loss: 0.5898||train acc: 0.6528||val acc: 0.6490||train auc: 0.6525||val auc: 0.6486\n",
      "epoch: 47||train loss: 0.5844||val loss: 0.5876||train acc: 0.6530||val acc: 0.6504||train auc: 0.6526||val auc: 0.6499\n",
      "epoch: 48||train loss: 0.5833||val loss: 0.5856||train acc: 0.6540||val acc: 0.6534||train auc: 0.6536||val auc: 0.6531\n",
      "epoch: 49||train loss: 0.5820||val loss: 0.5858||train acc: 0.6543||val acc: 0.6526||train auc: 0.6542||val auc: 0.6525\n",
      "epoch: 50||train loss: 0.5813||val loss: 0.5851||train acc: 0.6555||val acc: 0.6528||train auc: 0.6554||val auc: 0.6525\n",
      "epoch: 51||train loss: 0.5806||val loss: 0.5843||train acc: 0.6559||val acc: 0.6523||train auc: 0.6556||val auc: 0.6518\n",
      "epoch: 52||train loss: 0.5802||val loss: 0.5846||train acc: 0.6556||val acc: 0.6526||train auc: 0.6558||val auc: 0.6527\n",
      "epoch: 53||train loss: 0.5792||val loss: 0.5826||train acc: 0.6548||val acc: 0.6543||train auc: 0.6551||val auc: 0.6546\n",
      "epoch: 54||train loss: 0.5773||val loss: 0.5821||train acc: 0.6586||val acc: 0.6545||train auc: 0.6583||val auc: 0.6541\n",
      "epoch: 55||train loss: 0.5765||val loss: 0.5808||train acc: 0.6577||val acc: 0.6552||train auc: 0.6578||val auc: 0.6554\n",
      "epoch: 56||train loss: 0.5761||val loss: 0.5800||train acc: 0.6580||val acc: 0.6554||train auc: 0.6578||val auc: 0.6552\n",
      "epoch: 57||train loss: 0.5751||val loss: 0.5798||train acc: 0.6588||val acc: 0.6561||train auc: 0.6586||val auc: 0.6558\n",
      "epoch: 58||train loss: 0.5746||val loss: 0.5794||train acc: 0.6588||val acc: 0.6544||train auc: 0.6584||val auc: 0.6538\n",
      "epoch: 59||train loss: 0.5730||val loss: 0.5779||train acc: 0.6599||val acc: 0.6573||train auc: 0.6598||val auc: 0.6572\n",
      "epoch: 60||train loss: 0.5722||val loss: 0.5768||train acc: 0.6606||val acc: 0.6573||train auc: 0.6606||val auc: 0.6573\n",
      "epoch: 61||train loss: 0.5716||val loss: 0.5752||train acc: 0.6602||val acc: 0.6586||train auc: 0.6602||val auc: 0.6586\n",
      "epoch: 62||train loss: 0.5706||val loss: 0.5758||train acc: 0.6614||val acc: 0.6594||train auc: 0.6615||val auc: 0.6595\n",
      "epoch: 63||train loss: 0.5709||val loss: 0.5755||train acc: 0.6606||val acc: 0.6588||train auc: 0.6607||val auc: 0.6589\n",
      "epoch: 64||train loss: 0.5693||val loss: 0.5761||train acc: 0.6621||val acc: 0.6588||train auc: 0.6619||val auc: 0.6586\n",
      "epoch: 65||train loss: 0.5699||val loss: 0.5743||train acc: 0.6618||val acc: 0.6585||train auc: 0.6614||val auc: 0.6580\n",
      "epoch: 66||train loss: 0.5684||val loss: 0.5736||train acc: 0.6623||val acc: 0.6587||train auc: 0.6619||val auc: 0.6582\n",
      "epoch: 67||train loss: 0.5682||val loss: 0.5742||train acc: 0.6626||val acc: 0.6585||train auc: 0.6629||val auc: 0.6588\n"
     ]
    }
   ],
   "source": [
    "loss_train_gcn = []\n",
    "acc_train_gcn = []\n",
    "auc_train_gcn = []\n",
    "ap_train_gcn = []\n",
    "loss_val_gcn = []\n",
    "acc_val_gcn = []\n",
    "auc_val_gcn = []\n",
    "ap_val_gcn = []\n",
    "\n",
    "for epoch in range(n_epochs+1):\n",
    "\n",
    "    # evaluate on both train and val sets\n",
    "    loss_train, y_target_train, y_pred_train = evaluator_train()\n",
    "    loss_val, y_target_val, y_pred_val = evaluator_val()\n",
    "    \n",
    "    if epoch == 0:\n",
    "        print('number of training examples: %i, number of validation examples: %i' %(len(y_pred_train), len(y_pred_val)))\n",
    "    \n",
    "    # compute the accuracy, average precision, AUC\n",
    "    acc_train = np.mean(y_pred_train == y_target_train)\n",
    "    auc_train = roc_auc_score(y_target_train, y_pred_train)\n",
    "    ap_train = average_precision_score(y_target_train, y_pred_train)\n",
    "    roc_train = roc_curve(y_target_train, y_pred_train)\n",
    "\n",
    "    acc_val = np.mean(y_pred_val == y_target_val)\n",
    "    auc_val = roc_auc_score(y_target_val, y_pred_val)\n",
    "    ap_val = average_precision_score(y_target_val, y_pred_val)\n",
    "    roc_val = roc_curve(y_target_val, y_pred_val)\n",
    "\n",
    "    # record the results\n",
    "    loss_train_gcn.append(loss_train)\n",
    "    acc_train_gcn.append(acc_train)\n",
    "    auc_train_gcn.append(auc_train)\n",
    "    ap_train_gcn.append(ap_train)\n",
    "    \n",
    "    loss_val_gcn.append(loss_val)\n",
    "    acc_val_gcn.append(acc_val)\n",
    "    auc_val_gcn.append(auc_val)\n",
    "    ap_val_gcn.append(ap_val)\n",
    "\n",
    "    # print results\n",
    "    print('epoch: %i||train loss: %.4f||val loss: %.4f||train acc: %.4f||val acc: %.4f||train auc: %.4f||val auc: %.4f' \\\n",
    "          % (epoch, loss_train, loss_val, acc_train, acc_val, auc_train, auc_val))\n",
    "    \n",
    "    # train\n",
    "    if epoch != n_epochs:\n",
    "        loss_train = train()\n"
   ]
  },
  {
   "cell_type": "code",
   "execution_count": 28,
   "metadata": {},
   "outputs": [
    {
     "data": {
      "image/png": "[encoded data removed]",
      "text/plain": [
       "<Figure size 864x288 with 2 Axes>"
      ]
     },
     "metadata": {
      "needs_background": "light"
     },
     "output_type": "display_data"
    }
   ],
   "source": [
    "fig, ax = plt.subplots(1, 2, figsize=(12,4))\n",
    "fig.subplots_adjust(wspace=0.3)\n",
    "\n",
    "ax[0].plot(np.arange(1, len(loss_train_gcn)+1), loss_train_gcn)\n",
    "ax[0].plot(np.arange(1, len(loss_val_gcn)+1), loss_val_gcn)\n",
    "ax[0].set_xlabel('epochs')\n",
    "ax[0].set_ylabel('BCE loss')\n",
    "#ax[0].set_xscale('log')\n",
    "#ax[0].set_yscale('log')\n",
    "#ax[0].set_ylim([np.min(loss_history), np.max(loss_history)])\n",
    "\n",
    "ax[1].plot(acc_train_gcn)\n",
    "ax[1].plot(acc_val_gcn)\n",
    "#ax[1].plot(ap_history, label='AP')\n",
    "ax[1].set_xlabel('epochs')\n",
    "ax[1].set_ylabel('accuracy')\n",
    "#ax[1].set_xscale('log')\n",
    "#ax[1].legend()\n",
    "\n",
    "#plt.savefig(\"figures/node_prediction_gcn.pdf\", bbox_inches='tight')\n",
    "plt.show()"
   ]
  },
  {
   "cell_type": "markdown",
   "metadata": {},
   "source": [
    "### GraphSAGE"
   ]
  },
  {
   "cell_type": "code",
   "execution_count": 29,
   "metadata": {},
   "outputs": [
    {
     "name": "stdout",
     "output_type": "stream",
     "text": [
      "number of hidden units = 256\n",
      "number of trainable parameters 335618\n"
     ]
    }
   ],
   "source": [
    "h = 256\n",
    "print('number of hidden units = %i' %h)\n",
    "\n",
    "model = SAGE(data.x.shape[1], h, num_classes).to(device)\n",
    "model.set_aggr('mean')\n",
    "print('number of trainable parameters %i' %model_params(model))\n",
    "\n",
    "optimizer = torch.optim.Adam(model.parameters(), lr=1e-3)"
   ]
  },
  {
   "cell_type": "code",
   "execution_count": 30,
   "metadata": {},
   "outputs": [],
   "source": [
    "def train():\n",
    "    model.train()\n",
    "\n",
    "    total_loss = total_examples = 0\n",
    "    for batch in loader:\n",
    "        batch = batch.to(device)\n",
    "        optimizer.zero_grad()\n",
    "        out = model(batch.x, batch.edge_index)\n",
    "        batch_size = out[batch.train_mask].shape[0]\n",
    "        loss = F.nll_loss(out[batch.train_mask], batch.y[batch.train_mask])\n",
    "        loss.backward()\n",
    "        optimizer.step()\n",
    "        total_loss += loss.item() * batch_size\n",
    "        total_examples += batch_size\n",
    "    return total_loss / total_examples\n",
    "\n",
    "@torch.no_grad()\n",
    "def evaluator_train():\n",
    "    model.eval()\n",
    "    \n",
    "    y_target = torch.empty(0)\n",
    "    y_pred = torch.empty(0)\n",
    "    total_loss = total_examples = 0\n",
    "    for batch in loader:\n",
    "        batch = batch.to(device)\n",
    "        out = model(batch.x, batch.edge_index)\n",
    "        batch_size = out[batch.train_mask].shape[0]\n",
    "        total_examples += batch_size\n",
    "        total_loss += F.nll_loss(out[batch.train_mask], batch.y[batch.train_mask]).item() * batch_size\n",
    "        \n",
    "        y_target = torch.cat((y_target, 1.0 * batch.y[batch.train_mask].cpu()), 0)\n",
    "        y_pred = torch.cat((y_pred, 1.0 * torch.argmax(nn.Softmax()(out[batch.train_mask]), axis=1).cpu()), 0)\n",
    "        \n",
    "    y_target = y_target.numpy()\n",
    "    y_pred = y_pred.numpy()\n",
    "    \n",
    "    return total_loss/total_examples, y_target, y_pred\n",
    "\n",
    "@torch.no_grad()\n",
    "def evaluator_val():\n",
    "    model.eval()\n",
    "    \n",
    "    y_target = torch.empty(0)\n",
    "    y_pred = torch.empty(0)\n",
    "    total_loss = total_examples = 0\n",
    "    for batch in loader:\n",
    "        batch = batch.to(device)\n",
    "        out = model(batch.x, batch.edge_index)\n",
    "        batch_size = out[batch.val_mask].shape[0]\n",
    "        total_examples += batch_size\n",
    "        total_loss += F.nll_loss(out[batch.val_mask], batch.y[batch.val_mask]).item() * batch_size\n",
    "        \n",
    "        y_target = torch.cat((y_target, 1.0 * batch.y[batch.val_mask].cpu()), 0)\n",
    "        y_pred = torch.cat((y_pred, 1.0 * torch.argmax(nn.Softmax()(out[batch.val_mask]), axis=1).cpu()), 0)\n",
    "\n",
    "    y_target = y_target.numpy()\n",
    "    y_pred = y_pred.numpy()\n",
    "    \n",
    "    return total_loss/total_examples, y_target, y_pred"
   ]
  },
  {
   "cell_type": "code",
   "execution_count": 31,
   "metadata": {},
   "outputs": [
    {
     "name": "stdout",
     "output_type": "stream",
     "text": [
      "number of training examples: 943971, number of validation examples: 237165\n",
      "epoch: 0||train loss: 0.6929||val loss: 0.6931||train acc: 0.5024||val acc: 0.5020||train auc: 0.5046||val auc: 0.5041\n",
      "epoch: 1||train loss: 0.6555||val loss: 0.6557||train acc: 0.6516||val acc: 0.6517||train auc: 0.6493||val auc: 0.6488\n",
      "epoch: 2||train loss: 0.5403||val loss: 0.5403||train acc: 0.7553||val acc: 0.7555||train auc: 0.7542||val auc: 0.7539\n",
      "epoch: 3||train loss: 0.4598||val loss: 0.4582||train acc: 0.7858||val acc: 0.7878||train auc: 0.7852||val auc: 0.7869\n",
      "epoch: 4||train loss: 0.4028||val loss: 0.4025||train acc: 0.8290||val acc: 0.8302||train auc: 0.8284||val auc: 0.8295\n",
      "epoch: 5||train loss: 0.3491||val loss: 0.3477||train acc: 0.8480||val acc: 0.8483||train auc: 0.8476||val auc: 0.8479\n",
      "epoch: 6||train loss: 0.3052||val loss: 0.3036||train acc: 0.8654||val acc: 0.8661||train auc: 0.8648||val auc: 0.8654\n",
      "epoch: 7||train loss: 0.2694||val loss: 0.2670||train acc: 0.8814||val acc: 0.8827||train auc: 0.8810||val auc: 0.8823\n",
      "epoch: 8||train loss: 0.2425||val loss: 0.2406||train acc: 0.8988||val acc: 0.8998||train auc: 0.8987||val auc: 0.8997\n",
      "epoch: 9||train loss: 0.2305||val loss: 0.2289||train acc: 0.9032||val acc: 0.9036||train auc: 0.9030||val auc: 0.9032\n",
      "epoch: 10||train loss: 0.2191||val loss: 0.2166||train acc: 0.9097||val acc: 0.9106||train auc: 0.9095||val auc: 0.9103\n",
      "epoch: 11||train loss: 0.2119||val loss: 0.2125||train acc: 0.9134||val acc: 0.9123||train auc: 0.9133||val auc: 0.9121\n",
      "epoch: 12||train loss: 0.2064||val loss: 0.2063||train acc: 0.9165||val acc: 0.9160||train auc: 0.9163||val auc: 0.9158\n",
      "epoch: 13||train loss: 0.1970||val loss: 0.1995||train acc: 0.9212||val acc: 0.9191||train auc: 0.9210||val auc: 0.9189\n",
      "epoch: 14||train loss: 0.1918||val loss: 0.1920||train acc: 0.9241||val acc: 0.9226||train auc: 0.9241||val auc: 0.9225\n",
      "epoch: 15||train loss: 0.1882||val loss: 0.1894||train acc: 0.9255||val acc: 0.9240||train auc: 0.9254||val auc: 0.9238\n",
      "epoch: 16||train loss: 0.1805||val loss: 0.1844||train acc: 0.9280||val acc: 0.9254||train auc: 0.9278||val auc: 0.9252\n",
      "epoch: 17||train loss: 0.1759||val loss: 0.1806||train acc: 0.9298||val acc: 0.9270||train auc: 0.9297||val auc: 0.9268\n",
      "epoch: 18||train loss: 0.1718||val loss: 0.1768||train acc: 0.9310||val acc: 0.9278||train auc: 0.9309||val auc: 0.9275\n",
      "epoch: 19||train loss: 0.1693||val loss: 0.1736||train acc: 0.9318||val acc: 0.9290||train auc: 0.9317||val auc: 0.9289\n",
      "epoch: 20||train loss: 0.1654||val loss: 0.1701||train acc: 0.9327||val acc: 0.9302||train auc: 0.9325||val auc: 0.9300\n",
      "epoch: 21||train loss: 0.1633||val loss: 0.1683||train acc: 0.9331||val acc: 0.9311||train auc: 0.9330||val auc: 0.9310\n",
      "epoch: 22||train loss: 0.1620||val loss: 0.1680||train acc: 0.9331||val acc: 0.9305||train auc: 0.9330||val auc: 0.9303\n",
      "epoch: 23||train loss: 0.1596||val loss: 0.1664||train acc: 0.9340||val acc: 0.9309||train auc: 0.9339||val auc: 0.9308\n",
      "epoch: 24||train loss: 0.1569||val loss: 0.1634||train acc: 0.9344||val acc: 0.9321||train auc: 0.9343||val auc: 0.9320\n",
      "epoch: 25||train loss: 0.1549||val loss: 0.1635||train acc: 0.9347||val acc: 0.9313||train auc: 0.9346||val auc: 0.9311\n",
      "epoch: 26||train loss: 0.1536||val loss: 0.1599||train acc: 0.9351||val acc: 0.9330||train auc: 0.9350||val auc: 0.9329\n",
      "epoch: 27||train loss: 0.1519||val loss: 0.1609||train acc: 0.9355||val acc: 0.9323||train auc: 0.9353||val auc: 0.9322\n",
      "epoch: 28||train loss: 0.1505||val loss: 0.1589||train acc: 0.9358||val acc: 0.9325||train auc: 0.9357||val auc: 0.9324\n",
      "epoch: 29||train loss: 0.1497||val loss: 0.1590||train acc: 0.9360||val acc: 0.9320||train auc: 0.9358||val auc: 0.9318\n",
      "epoch: 30||train loss: 0.1474||val loss: 0.1557||train acc: 0.9368||val acc: 0.9338||train auc: 0.9367||val auc: 0.9337\n",
      "epoch: 31||train loss: 0.1472||val loss: 0.1566||train acc: 0.9366||val acc: 0.9334||train auc: 0.9365||val auc: 0.9332\n",
      "epoch: 32||train loss: 0.1451||val loss: 0.1554||train acc: 0.9373||val acc: 0.9331||train auc: 0.9372||val auc: 0.9330\n",
      "epoch: 33||train loss: 0.1446||val loss: 0.1556||train acc: 0.9374||val acc: 0.9329||train auc: 0.9373||val auc: 0.9328\n",
      "epoch: 34||train loss: 0.1434||val loss: 0.1535||train acc: 0.9378||val acc: 0.9338||train auc: 0.9376||val auc: 0.9337\n",
      "epoch: 35||train loss: 0.1424||val loss: 0.1538||train acc: 0.9379||val acc: 0.9338||train auc: 0.9378||val auc: 0.9336\n",
      "epoch: 36||train loss: 0.1414||val loss: 0.1536||train acc: 0.9384||val acc: 0.9328||train auc: 0.9383||val auc: 0.9327\n",
      "epoch: 37||train loss: 0.1409||val loss: 0.1521||train acc: 0.9382||val acc: 0.9339||train auc: 0.9381||val auc: 0.9338\n",
      "epoch: 38||train loss: 0.1398||val loss: 0.1521||train acc: 0.9390||val acc: 0.9336||train auc: 0.9389||val auc: 0.9336\n",
      "epoch: 39||train loss: 0.1406||val loss: 0.1513||train acc: 0.9385||val acc: 0.9345||train auc: 0.9383||val auc: 0.9344\n",
      "epoch: 40||train loss: 0.1389||val loss: 0.1525||train acc: 0.9389||val acc: 0.9334||train auc: 0.9388||val auc: 0.9332\n",
      "epoch: 41||train loss: 0.1376||val loss: 0.1519||train acc: 0.9395||val acc: 0.9340||train auc: 0.9394||val auc: 0.9339\n",
      "epoch: 42||train loss: 0.1376||val loss: 0.1510||train acc: 0.9395||val acc: 0.9343||train auc: 0.9394||val auc: 0.9341\n",
      "epoch: 43||train loss: 0.1364||val loss: 0.1516||train acc: 0.9400||val acc: 0.9338||train auc: 0.9399||val auc: 0.9337\n",
      "epoch: 44||train loss: 0.1357||val loss: 0.1512||train acc: 0.9405||val acc: 0.9340||train auc: 0.9404||val auc: 0.9338\n",
      "epoch: 45||train loss: 0.1352||val loss: 0.1516||train acc: 0.9403||val acc: 0.9342||train auc: 0.9402||val auc: 0.9342\n",
      "epoch: 46||train loss: 0.1347||val loss: 0.1505||train acc: 0.9405||val acc: 0.9340||train auc: 0.9404||val auc: 0.9339\n",
      "epoch: 47||train loss: 0.1341||val loss: 0.1502||train acc: 0.9412||val acc: 0.9339||train auc: 0.9411||val auc: 0.9338\n",
      "epoch: 48||train loss: 0.1334||val loss: 0.1497||train acc: 0.9414||val acc: 0.9344||train auc: 0.9414||val auc: 0.9343\n",
      "epoch: 49||train loss: 0.1324||val loss: 0.1492||train acc: 0.9417||val acc: 0.9350||train auc: 0.9416||val auc: 0.9348\n",
      "epoch: 50||train loss: 0.1318||val loss: 0.1487||train acc: 0.9419||val acc: 0.9357||train auc: 0.9418||val auc: 0.9356\n",
      "epoch: 51||train loss: 0.1321||val loss: 0.1479||train acc: 0.9418||val acc: 0.9350||train auc: 0.9417||val auc: 0.9349\n",
      "epoch: 52||train loss: 0.1317||val loss: 0.1506||train acc: 0.9417||val acc: 0.9345||train auc: 0.9416||val auc: 0.9343\n",
      "epoch: 53||train loss: 0.1308||val loss: 0.1490||train acc: 0.9424||val acc: 0.9349||train auc: 0.9423||val auc: 0.9347\n",
      "epoch: 54||train loss: 0.1297||val loss: 0.1496||train acc: 0.9430||val acc: 0.9341||train auc: 0.9428||val auc: 0.9340\n",
      "epoch: 55||train loss: 0.1298||val loss: 0.1493||train acc: 0.9424||val acc: 0.9346||train auc: 0.9423||val auc: 0.9345\n",
      "epoch: 56||train loss: 0.1295||val loss: 0.1476||train acc: 0.9429||val acc: 0.9357||train auc: 0.9428||val auc: 0.9356\n",
      "epoch: 57||train loss: 0.1294||val loss: 0.1480||train acc: 0.9427||val acc: 0.9353||train auc: 0.9426||val auc: 0.9351\n",
      "epoch: 58||train loss: 0.1285||val loss: 0.1499||train acc: 0.9435||val acc: 0.9344||train auc: 0.9433||val auc: 0.9342\n",
      "epoch: 59||train loss: 0.1276||val loss: 0.1489||train acc: 0.9437||val acc: 0.9353||train auc: 0.9436||val auc: 0.9352\n",
      "epoch: 60||train loss: 0.1271||val loss: 0.1477||train acc: 0.9443||val acc: 0.9350||train auc: 0.9442||val auc: 0.9350\n",
      "epoch: 61||train loss: 0.1262||val loss: 0.1479||train acc: 0.9446||val acc: 0.9358||train auc: 0.9445||val auc: 0.9357\n",
      "epoch: 62||train loss: 0.1265||val loss: 0.1487||train acc: 0.9446||val acc: 0.9347||train auc: 0.9445||val auc: 0.9346\n",
      "epoch: 63||train loss: 0.1259||val loss: 0.1481||train acc: 0.9453||val acc: 0.9354||train auc: 0.9453||val auc: 0.9353\n",
      "epoch: 64||train loss: 0.1256||val loss: 0.1489||train acc: 0.9445||val acc: 0.9358||train auc: 0.9444||val auc: 0.9356\n",
      "epoch: 65||train loss: 0.1237||val loss: 0.1486||train acc: 0.9458||val acc: 0.9348||train auc: 0.9457||val auc: 0.9347\n",
      "epoch: 66||train loss: 0.1233||val loss: 0.1474||train acc: 0.9461||val acc: 0.9355||train auc: 0.9460||val auc: 0.9354\n",
      "epoch: 67||train loss: 0.1225||val loss: 0.1479||train acc: 0.9465||val acc: 0.9358||train auc: 0.9463||val auc: 0.9357\n"
     ]
    }
   ],
   "source": [
    "loss_train_sage = []\n",
    "acc_train_sage = []\n",
    "auc_train_sage = []\n",
    "ap_train_sage = []\n",
    "loss_val_sage = []\n",
    "acc_val_sage = []\n",
    "auc_val_sage = []\n",
    "ap_val_sage = []\n",
    "\n",
    "for epoch in range(n_epochs+1):\n",
    "\n",
    "    # evaluate on both train and val sets\n",
    "    loss_train, y_target_train, y_pred_train = evaluator_train()\n",
    "    loss_val, y_target_val, y_pred_val = evaluator_val()\n",
    "    \n",
    "    if epoch == 0:\n",
    "        print('number of training examples: %i, number of validation examples: %i' %(len(y_pred_train), len(y_pred_val)))\n",
    "    \n",
    "    # compute the accuracy, average precision, AUC\n",
    "    acc_train = np.mean(y_pred_train == y_target_train)\n",
    "    auc_train = roc_auc_score(y_target_train, y_pred_train)\n",
    "    ap_train = average_precision_score(y_target_train, y_pred_train)\n",
    "    roc_train = roc_curve(y_target_train, y_pred_train)\n",
    "\n",
    "    acc_val = np.mean(y_pred_val == y_target_val)\n",
    "    auc_val = roc_auc_score(y_target_val, y_pred_val)\n",
    "    ap_val = average_precision_score(y_target_val, y_pred_val)\n",
    "    roc_val = roc_curve(y_target_val, y_pred_val)\n",
    "\n",
    "    # record the results\n",
    "    loss_train_sage.append(loss_train)\n",
    "    acc_train_sage.append(acc_train)\n",
    "    auc_train_sage.append(auc_train)\n",
    "    ap_train_sage.append(ap_train)\n",
    "    \n",
    "    loss_val_sage.append(loss_val)\n",
    "    acc_val_sage.append(acc_val)\n",
    "    auc_val_sage.append(auc_val)\n",
    "    ap_val_sage.append(ap_val)\n",
    "\n",
    "    # print results\n",
    "    print('epoch: %i||train loss: %.4f||val loss: %.4f||train acc: %.4f||val acc: %.4f||train auc: %.4f||val auc: %.4f' \\\n",
    "          % (epoch, loss_train, loss_val, acc_train, acc_val, auc_train, auc_val))\n",
    "    \n",
    "    # train\n",
    "    if epoch != n_epochs:\n",
    "        loss_train = train()\n"
   ]
  },
  {
   "cell_type": "code",
   "execution_count": 71,
   "metadata": {},
   "outputs": [
    {
     "data": {
      "image/png": "[encoded data removed]",
      "text/plain": [
       "<Figure size 864x360 with 2 Axes>"
      ]
     },
     "metadata": {
      "needs_background": "light"
     },
     "output_type": "display_data"
    }
   ],
   "source": [
    "import matplotlib.ticker as tck\n",
    "lw = 3\n",
    "\n",
    "fig, ax = plt.subplots(1, 2, figsize=(12, 5))\n",
    "fig.subplots_adjust(wspace=0.3)\n",
    "\n",
    "ax[0].text(-0.1, 1.05, '(a)', transform=ax[0].transAxes, size=15)\n",
    "ax[1].text(-0.1, 1.05, '(b)', transform=ax[1].transAxes, size=15)\n",
    "\n",
    "ax[0].plot(np.arange(1, len(loss_train_mlp)+1), loss_train_mlp, label='MLP', linewidth=lw)\n",
    "ax[0].plot(np.arange(1, len(loss_train_sage)+1), loss_train_sage, label='GraphSAGE', linewidth=lw)\n",
    "ax[0].plot(np.arange(1, len(loss_train_gcn)+1), loss_train_gcn, label='GCN', linewidth=lw)\n",
    "ax[0].set_xlabel('epochs')\n",
    "ax[0].set_ylabel('loss')\n",
    "ax[0].legend()\n",
    "ax[0].xaxis.set_minor_locator(tck.AutoMinorLocator())\n",
    "ax[0].yaxis.set_minor_locator(tck.AutoMinorLocator())\n",
    "\n",
    "ax[1].plot(acc_train_mlp, linewidth=lw, label='MLP')\n",
    "ax[1].plot(acc_train_sage, linewidth=lw, label='GraphSAGE')\n",
    "ax[1].plot(acc_train_gcn, linewidth=lw, label='GCN')\n",
    "ax[1].xaxis.set_minor_locator(tck.AutoMinorLocator())\n",
    "ax[1].yaxis.set_minor_locator(tck.AutoMinorLocator())\n",
    "ax[1].set_xlabel('epochs')\n",
    "ax[1].set_ylabel('accuracy')\n",
    "fig.tight_layout()  # otherwise the right y-label is slightly clipped\n",
    "\n",
    "plt.savefig(\"figures/node_prediction_results.pdf\", bbox_inches='tight')\n",
    "plt.show()"
   ]
  },
  {
   "cell_type": "code",
   "execution_count": null,
   "metadata": {},
   "outputs": [],
   "source": []
  },
  {
   "cell_type": "code",
   "execution_count": null,
   "metadata": {},
   "outputs": [],
   "source": []
  }
 ],
 "metadata": {
  "kernelspec": {
   "display_name": "Python (pytorch geometric)",
   "language": "python",
   "name": "pygeo"
  },
  "language_info": {
   "codemirror_mode": {
    "name": "ipython",
    "version": 3
   },
   "file_extension": ".py",
   "mimetype": "text/x-python",
   "name": "python",
   "nbconvert_exporter": "python",
   "pygments_lexer": "ipython3",
   "version": "3.8.3"
  }
 },
 "nbformat": 4,
 "nbformat_minor": 4
}
