{
 "cells": [
  {
   "cell_type": "markdown",
   "metadata": {},
   "source": [
    "# GraphSAINT Analysis"
   ]
  },
  {
   "cell_type": "code",
   "execution_count": 1,
   "metadata": {},
   "outputs": [
    {
     "name": "stderr",
     "output_type": "stream",
     "text": [
      "/home/gavin/anaconda3/envs/pygeo/lib/python3.8/site-packages/sklearn/utils/deprecation.py:144: FutureWarning: The sklearn.utils.testing module is  deprecated in version 0.22 and will be removed in version 0.24. The corresponding classes / functions should instead be imported from sklearn.utils. Anything that cannot be imported from sklearn.utils is now part of the private API.\n",
      "  warnings.warn(message, FutureWarning)\n"
     ]
    }
   ],
   "source": [
    "from imports import *\n",
    "from linkpred import *\n",
    "from dataset import *\n",
    "\n",
    "import matplotlib.pyplot as plt\n",
    "import matplotlib\n",
    "import matplotlib.style as style \n",
    "style.use('seaborn-paper')\n",
    "%matplotlib inline\n",
    "\n",
    "fontsize = 12\n",
    "plt.rcParams.update({\n",
    "    'font.size': fontsize, \n",
    "    'axes.labelsize': fontsize, \n",
    "    'legend.fontsize': fontsize,\n",
    "    'xtick.labelsize': fontsize,\n",
    "    'ytick.labelsize': fontsize,\n",
    "    'axes.titlesize': fontsize\n",
    "                    })"
   ]
  },
  {
   "cell_type": "code",
   "execution_count": 2,
   "metadata": {},
   "outputs": [
    {
     "data": {
      "text/plain": [
       "<torch._C.Generator at 0x7f718867af70>"
      ]
     },
     "execution_count": 2,
     "metadata": {},
     "output_type": "execute_result"
    }
   ],
   "source": [
    "## set random seeds\n",
    "random.seed(123)\n",
    "np.random.seed(123)\n",
    "torch.manual_seed(123)"
   ]
  },
  {
   "cell_type": "code",
   "execution_count": 3,
   "metadata": {},
   "outputs": [
    {
     "name": "stdout",
     "output_type": "stream",
     "text": [
      "1.5.1\n",
      "device = cuda\n"
     ]
    }
   ],
   "source": [
    "print(torch.__version__)\n",
    "device = torch.device('cuda' if torch.cuda.is_available() else 'cpu')\n",
    "print('device =', device)"
   ]
  },
  {
   "cell_type": "markdown",
   "metadata": {},
   "source": [
    "## Load the Dataset"
   ]
  },
  {
   "cell_type": "code",
   "execution_count": 4,
   "metadata": {},
   "outputs": [
    {
     "data": {
      "text/html": [
       "<div>\n",
       "<style scoped>\n",
       "    .dataframe tbody tr th:only-of-type {\n",
       "        vertical-align: middle;\n",
       "    }\n",
       "\n",
       "    .dataframe tbody tr th {\n",
       "        vertical-align: top;\n",
       "    }\n",
       "\n",
       "    .dataframe thead th {\n",
       "        text-align: right;\n",
       "    }\n",
       "</style>\n",
       "<table border=\"1\" class=\"dataframe\">\n",
       "  <thead>\n",
       "    <tr style=\"text-align: right;\">\n",
       "      <th></th>\n",
       "      <th>person_id</th>\n",
       "      <th>household_id</th>\n",
       "      <th>age</th>\n",
       "      <th>gender</th>\n",
       "      <th>worker</th>\n",
       "      <th>relationship</th>\n",
       "      <th>household_income</th>\n",
       "      <th>household_size</th>\n",
       "      <th>zipcode</th>\n",
       "      <th>household_vehicles</th>\n",
       "      <th>household_workers</th>\n",
       "    </tr>\n",
       "  </thead>\n",
       "  <tbody>\n",
       "    <tr>\n",
       "      <th>0</th>\n",
       "      <td>2509159</td>\n",
       "      <td>2201175</td>\n",
       "      <td>42</td>\n",
       "      <td>1</td>\n",
       "      <td>1</td>\n",
       "      <td>1</td>\n",
       "      <td>13</td>\n",
       "      <td>3</td>\n",
       "      <td>97201</td>\n",
       "      <td>3</td>\n",
       "      <td>2</td>\n",
       "    </tr>\n",
       "    <tr>\n",
       "      <th>1</th>\n",
       "      <td>2509160</td>\n",
       "      <td>2201175</td>\n",
       "      <td>43</td>\n",
       "      <td>2</td>\n",
       "      <td>1</td>\n",
       "      <td>1</td>\n",
       "      <td>13</td>\n",
       "      <td>3</td>\n",
       "      <td>97201</td>\n",
       "      <td>3</td>\n",
       "      <td>2</td>\n",
       "    </tr>\n",
       "    <tr>\n",
       "      <th>2</th>\n",
       "      <td>2509161</td>\n",
       "      <td>2201175</td>\n",
       "      <td>17</td>\n",
       "      <td>1</td>\n",
       "      <td>2</td>\n",
       "      <td>2</td>\n",
       "      <td>13</td>\n",
       "      <td>3</td>\n",
       "      <td>97201</td>\n",
       "      <td>3</td>\n",
       "      <td>2</td>\n",
       "    </tr>\n",
       "    <tr>\n",
       "      <th>3</th>\n",
       "      <td>2509162</td>\n",
       "      <td>2201176</td>\n",
       "      <td>41</td>\n",
       "      <td>1</td>\n",
       "      <td>1</td>\n",
       "      <td>1</td>\n",
       "      <td>11</td>\n",
       "      <td>2</td>\n",
       "      <td>97201</td>\n",
       "      <td>3</td>\n",
       "      <td>1</td>\n",
       "    </tr>\n",
       "    <tr>\n",
       "      <th>4</th>\n",
       "      <td>2509163</td>\n",
       "      <td>2201176</td>\n",
       "      <td>11</td>\n",
       "      <td>1</td>\n",
       "      <td>2</td>\n",
       "      <td>2</td>\n",
       "      <td>11</td>\n",
       "      <td>2</td>\n",
       "      <td>97201</td>\n",
       "      <td>3</td>\n",
       "      <td>1</td>\n",
       "    </tr>\n",
       "  </tbody>\n",
       "</table>\n",
       "</div>"
      ],
      "text/plain": [
       "   person_id  household_id  age  gender  worker  relationship  \\\n",
       "0    2509159       2201175   42       1       1             1   \n",
       "1    2509160       2201175   43       2       1             1   \n",
       "2    2509161       2201175   17       1       2             2   \n",
       "3    2509162       2201176   41       1       1             1   \n",
       "4    2509163       2201176   11       1       2             2   \n",
       "\n",
       "   household_income  household_size  zipcode  household_vehicles  \\\n",
       "0                13               3    97201                   3   \n",
       "1                13               3    97201                   3   \n",
       "2                13               3    97201                   3   \n",
       "3                11               2    97201                   3   \n",
       "4                11               2    97201                   3   \n",
       "\n",
       "   household_workers  \n",
       "0                  2  \n",
       "1                  2  \n",
       "2                  2  \n",
       "3                  1  \n",
       "4                  1  "
      ]
     },
     "execution_count": 4,
     "metadata": {},
     "output_type": "execute_result"
    }
   ],
   "source": [
    "node_attributes = pd.read_csv('data/NDSSL data/raw/node_attributes.csv')\n",
    "node_attributes.head(5)"
   ]
  },
  {
   "cell_type": "code",
   "execution_count": null,
   "metadata": {},
   "outputs": [
    {
     "name": "stdout",
     "output_type": "stream",
     "text": [
      "fraction of data in training set: 0.00\n"
     ]
    },
    {
     "name": "stderr",
     "output_type": "stream",
     "text": [
      "Compute GraphSAINT normalization:   0%|          | 0/32026600 [00:00<?, ?it/s]"
     ]
    }
   ],
   "source": [
    "plist = np.linspace(0.5, 0.4, 20)\n",
    "density = []\n",
    "edge_ratio = []\n",
    "\n",
    "walk_length = 30\n",
    "batch_size = 1000\n",
    "num_steps = 10\n",
    "sample_coverage = 20\n",
    "\n",
    "for i in range(len(plist)):\n",
    "    p = plist[i]\n",
    "    print('fraction of data in training set: %.2f' %(1.0 - 2*p))\n",
    "\n",
    "    dataset = load_dataset(dataset_name='NDSSL')\n",
    "    data = dataset[0]\n",
    "    data = train_test_split_big(data, val_ratio=p, test_ratio=p)\n",
    "\n",
    "    data_columns = ['age', 'gender', 'worker', 'relationship', 'household_income', 'household_size', 'zipcode', 'household_vehicles', 'household_workers']\n",
    "    data.x = dataframe2onehot(node_attributes[data_columns], node_attributes)\n",
    "\n",
    "    train_data = Data(x=data.x, edge_index=data.train_pos_edge_index, y=data.y)\n",
    "    row, col = train_data.edge_index\n",
    "    train_data.edge_attr = 1. / degree(col, train_data.num_nodes)[col]  # Norm by in-degree.\n",
    "\n",
    "    train_loader = GraphSAINTRandomWalkSampler(train_data, batch_size=batch_size, walk_length=walk_length,\n",
    "                                         num_steps=num_steps, sample_coverage=sample_coverage,\n",
    "                                         save_dir=None)\n",
    "    density_tmp = []\n",
    "    edge_ratio_tmp = []\n",
    "    for batch in train_loader:\n",
    "        n = batch.x.shape[0]\n",
    "        m = batch.edge_index.shape[1]\n",
    "\n",
    "        density_tmp.append((2*m/(n*(n-1))))\n",
    "        edge_ratio_tmp.append((m/n))\n",
    "        \n",
    "    density.append(density_tmp)\n",
    "    edge_ratio_tmp.append(edge_ratio_tmp)"
   ]
  },
  {
   "cell_type": "code",
   "execution_count": null,
   "metadata": {},
   "outputs": [],
   "source": []
  },
  {
   "cell_type": "code",
   "execution_count": null,
   "metadata": {},
   "outputs": [],
   "source": []
  },
  {
   "cell_type": "code",
   "execution_count": null,
   "metadata": {},
   "outputs": [],
   "source": []
  },
  {
   "cell_type": "code",
   "execution_count": null,
   "metadata": {},
   "outputs": [],
   "source": [
    "fig, ax = plt.subplots(1, 2, figsize=(12, 6))\n",
    "\n",
    "ax[0].hist(density_train, label='train')\n",
    "ax[0].hist(density_test, label='test')\n",
    "ax[0].legend()\n",
    "\n",
    "ax[1].hist(edge_ratio_train, label='train')\n",
    "ax[1].hist(edge_ratio_test, label='test')\n",
    "ax[1].legend()\n",
    "\n",
    "plt.show()"
   ]
  }
 ],
 "metadata": {
  "kernelspec": {
   "display_name": "Python (pytorch geometric)",
   "language": "python",
   "name": "pygeo"
  },
  "language_info": {
   "codemirror_mode": {
    "name": "ipython",
    "version": 3
   },
   "file_extension": ".py",
   "mimetype": "text/x-python",
   "name": "python",
   "nbconvert_exporter": "python",
   "pygments_lexer": "ipython3",
   "version": "3.8.3"
  },
  "toc": {
   "base_numbering": 1,
   "nav_menu": {},
   "number_sections": true,
   "sideBar": true,
   "skip_h1_title": false,
   "title_cell": "Table of Contents",
   "title_sidebar": "Contents",
   "toc_cell": false,
   "toc_position": {},
   "toc_section_display": true,
   "toc_window_display": false
  }
 },
 "nbformat": 4,
 "nbformat_minor": 4
}
